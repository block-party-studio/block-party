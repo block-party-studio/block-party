{
 "cells": [
  {
   "cell_type": "markdown",
   "id": "jewish-configuration",
   "metadata": {},
   "source": [
    "# Objective\n",
    "\n",
    "Our goal is to quantify the top topics classified for each CB meeting. This will provide a comparison with 311 service request data. \n",
    "\n",
    "For each CB, what is the top topics discussed?\n",
    "\n",
    "**Input:**\n",
    "\n",
    "    - JSON object of public archive of Community Board meetings\n",
    "    - Dictionary of topics with probabilities assigned to each topic in the taxonomy.\n",
    "\n",
    "**Output:**\n",
    "\n",
    "    - Structured dataframe:\n",
    "        - Each CB ID, link to full transcript\n",
    "        - Topic as binary one-hot-encoding column if over a threshold\n",
    "  "
   ]
  },
  {
   "cell_type": "code",
   "execution_count": 202,
   "id": "according-platform",
   "metadata": {},
   "outputs": [],
   "source": [
    "import pandas as pd\n",
    "import json\n",
    "import datetime\n",
    "import ast\n",
    "import numpy as np\n",
    "import seaborn as sns\n",
    "import matplotlib.pyplot as plt\n",
    "\n",
    "pd.set_option(\"display.max_columns\", None)"
   ]
  },
  {
   "cell_type": "markdown",
   "id": "based-paradise",
   "metadata": {},
   "source": [
    "### Data"
   ]
  },
  {
   "cell_type": "code",
   "execution_count": 154,
   "id": "thorough-judgment",
   "metadata": {},
   "outputs": [],
   "source": [
    "# list of topics\n",
    "topics_tax = ['Parks', 'Housing', 'Land Use', 'Infrastructure', 'Transportation',\n",
    "              'Quality of Life', 'Safety', 'Waterfront', 'Technology', 'Zoning',\n",
    "              'Commercial Development', 'Equity', 'Arts and Culture', 'Youth',\n",
    "              'Census', 'Seniors', 'Employment', 'Health', 'Licensing',\n",
    "              'Utilities', 'Human Services', 'Budget', 'Libraries',\n",
    "              'Education', 'Sanitation', 'Police', 'Elections']"
   ]
  },
  {
   "cell_type": "code",
   "execution_count": 156,
   "id": "loaded-church",
   "metadata": {},
   "outputs": [
    {
     "name": "stdout",
     "output_type": "stream",
     "text": [
      "['Parks', 'Housing', 'Land Use', 'Infrastructure', 'Transportation', 'Quality of Life', 'Safety', 'Waterfront', 'Technology', 'Zoning', 'Commercial Development', 'Equity', 'Arts and Culture', 'Youth', 'Census', 'Seniors', 'Employment', 'Health', 'Licensing', 'Utilities', 'Human Services', 'Budget', 'Libraries', 'Education', 'Sanitation', 'Police', 'Elections']\n"
     ]
    }
   ],
   "source": [
    "print(topics_tax)"
   ]
  },
  {
   "cell_type": "code",
   "execution_count": 23,
   "id": "divine-smith",
   "metadata": {},
   "outputs": [],
   "source": [
    "file = '../../Data/transcripts_v4.json'\n",
    "with open(file) as train_file:\n",
    "    dict_train = json.load(train_file)"
   ]
  },
  {
   "cell_type": "code",
   "execution_count": 9,
   "id": "lasting-neighbor",
   "metadata": {},
   "outputs": [
    {
     "data": {
      "text/plain": [
       "3102"
      ]
     },
     "execution_count": 9,
     "metadata": {},
     "output_type": "execute_result"
    }
   ],
   "source": [
    "len(dict_train)"
   ]
  },
  {
   "cell_type": "code",
   "execution_count": 12,
   "id": "continued-property",
   "metadata": {},
   "outputs": [
    {
     "data": {
      "text/plain": [
       "{'$oid': '5fe7e243539a4d487dc18b64'}"
      ]
     },
     "execution_count": 12,
     "metadata": {},
     "output_type": "execute_result"
    }
   ],
   "source": [
    "dict_train[0].get('_id')"
   ]
  },
  {
   "cell_type": "code",
   "execution_count": 13,
   "id": "thorough-springfield",
   "metadata": {},
   "outputs": [],
   "source": [
    "def structure_df(input_db_query):\n",
    "    import pandas as pd\n",
    "    obj_id = []\n",
    "    video_url = []\n",
    "    author = []\n",
    "    publish_date = []\n",
    "    title = []\n",
    "    topic = []\n",
    "    full_transcript = []\n",
    "    word_count_list = []\n",
    "    length = []\n",
    "    for id in input_db_query:\n",
    "        obj_id.append(str(id.get('_id')))\n",
    "        video_url.append(str(id.get('properties').get('videoURL')))\n",
    "        author.append(str(id.get('CommunityBoardInfo').get('normalizedName')))\n",
    "        publish_date.append(id.get('YoutubeMetadata').get('publishDate'))\n",
    "        title.append(str(id.get('YoutubeMetadata').get('title')))\n",
    "        topic.append(str(id.get('properties').get('meetingType')))\n",
    "        full_transcript.append(str(id.get('properties').get('fullTranscript')))\n",
    "        length.append(str(id.get('YoutubeMetadata').get('lengthSeconds')))\n",
    "        # get list of key words\n",
    "        word_count_dict = id.get('properties').get('wordCountFullTranscript')\n",
    "        word_count_dict.update(id.get('properties').get('wordCountSummary'))\n",
    "        #word_count = list(dict(list(full_word_count.items()) + list(summary_word_count.items())).keys())\n",
    "        #print(word_count)\n",
    "        # make into dictionary\n",
    "        word_count_list.append(word_count_dict)\n",
    "    \n",
    "    # make each list into dataframe\n",
    "    output_df = pd.DataFrame(\n",
    "    {'obj_id': obj_id,\n",
    "     'video_url': video_url,\n",
    "     'author': author,\n",
    "     'publish_date': publish_date,\n",
    "     'title': title,\n",
    "     'topic': topic,\n",
    "     'fullTranscript': full_transcript,\n",
    "     'word_count': word_count_list,\n",
    "     'length':length\n",
    "    })\n",
    "\n",
    "    return output_df"
   ]
  },
  {
   "cell_type": "code",
   "execution_count": 19,
   "id": "authentic-daughter",
   "metadata": {},
   "outputs": [],
   "source": [
    "df = structure_df(dict_train)"
   ]
  },
  {
   "cell_type": "code",
   "execution_count": 20,
   "id": "capable-pregnancy",
   "metadata": {},
   "outputs": [
    {
     "data": {
      "text/html": [
       "<div>\n",
       "<style scoped>\n",
       "    .dataframe tbody tr th:only-of-type {\n",
       "        vertical-align: middle;\n",
       "    }\n",
       "\n",
       "    .dataframe tbody tr th {\n",
       "        vertical-align: top;\n",
       "    }\n",
       "\n",
       "    .dataframe thead th {\n",
       "        text-align: right;\n",
       "    }\n",
       "</style>\n",
       "<table border=\"1\" class=\"dataframe\">\n",
       "  <thead>\n",
       "    <tr style=\"text-align: right;\">\n",
       "      <th></th>\n",
       "      <th>obj_id</th>\n",
       "      <th>video_url</th>\n",
       "      <th>author</th>\n",
       "      <th>publish_date</th>\n",
       "      <th>title</th>\n",
       "      <th>topic</th>\n",
       "      <th>fullTranscript</th>\n",
       "      <th>word_count</th>\n",
       "      <th>length</th>\n",
       "    </tr>\n",
       "  </thead>\n",
       "  <tbody>\n",
       "    <tr>\n",
       "      <th>0</th>\n",
       "      <td>{'$oid': '5fe7e243539a4d487dc18b64'}</td>\n",
       "      <td>9WyiCFkYBrk</td>\n",
       "      <td>Brooklyn Community Board 6</td>\n",
       "      <td>2020-05-07T00:00:00</td>\n",
       "      <td>COMMUNITY CHECK IN</td>\n",
       "      <td>[[0.4210607409477234, 'Budget'], [0.1910649240...</td>\n",
       "      <td>A great turnout and it seemed like it- went pr...</td>\n",
       "      <td>{'state': 17, 'businesses': 7, 'nursing': 7, '...</td>\n",
       "      <td>1:42:02</td>\n",
       "    </tr>\n",
       "    <tr>\n",
       "      <th>1</th>\n",
       "      <td>{'$oid': '5fe7e243539a4d487dc18b65'}</td>\n",
       "      <td>tv-N4M_zCT4</td>\n",
       "      <td>Brooklyn Community Board 8</td>\n",
       "      <td>2020-11-06T00:00:00</td>\n",
       "      <td>Land Use Committee</td>\n",
       "      <td>[[0.4097696840763092, 'Landmarks'], [0.3762851...</td>\n",
       "      <td>Good at it today, let's see okay, so there see...</td>\n",
       "      <td>{'building': 17, 'landmarks': 9, 'units': 5, '...</td>\n",
       "      <td>2:45:00</td>\n",
       "    </tr>\n",
       "    <tr>\n",
       "      <th>2</th>\n",
       "      <td>{'$oid': '5fe7e243539a4d487dc18b66'}</td>\n",
       "      <td>Ftq9Z4DFmE4</td>\n",
       "      <td>Manhattan Community Board 2</td>\n",
       "      <td>2020-10-23T00:00:00</td>\n",
       "      <td>Monthly Meeting</td>\n",
       "      <td>[[0.5453713536262512, 'Safety'], [0.0701165199...</td>\n",
       "      <td>Okay, we're gonna get started. Welcome. Tonigh...</td>\n",
       "      <td>{'restaurants': 6, 'dining': 7, 'plan': 5, 're...</td>\n",
       "      <td>2:22:36</td>\n",
       "    </tr>\n",
       "    <tr>\n",
       "      <th>3</th>\n",
       "      <td>{'$oid': '5fe7e243539a4d487dc18b67'}</td>\n",
       "      <td>wulekhvNcIk</td>\n",
       "      <td>Manhattan Community Board 3</td>\n",
       "      <td>2020-05-12T00:00:00</td>\n",
       "      <td>Manhattan, Landmarks Committee meeting</td>\n",
       "      <td>[[0.2568089962005615, 'Employment'], [0.245191...</td>\n",
       "      <td>Okay, there you go yep, so welcome everybody t...</td>\n",
       "      <td>{'tile': 4, 'facade': 5, 'staff': 9, 'residenc...</td>\n",
       "      <td>0:33:51</td>\n",
       "    </tr>\n",
       "    <tr>\n",
       "      <th>4</th>\n",
       "      <td>{'$oid': '5fe7e243539a4d487dc18b68'}</td>\n",
       "      <td>OVHshrqxRgo</td>\n",
       "      <td>Manhattan Community Board 5</td>\n",
       "      <td>2020-11-06T00:00:00</td>\n",
       "      <td>Landmarks Committee Meeting</td>\n",
       "      <td>[[0.09517455846071243, 'Land Use'], [0.0794066...</td>\n",
       "      <td>Okay, so it looks like Paul just joined us, ok...</td>\n",
       "      <td>{'sign': 19, 'building': 17, 'plan': 5, 'maste...</td>\n",
       "      <td>1:02:10</td>\n",
       "    </tr>\n",
       "  </tbody>\n",
       "</table>\n",
       "</div>"
      ],
      "text/plain": [
       "                                 obj_id    video_url  \\\n",
       "0  {'$oid': '5fe7e243539a4d487dc18b64'}  9WyiCFkYBrk   \n",
       "1  {'$oid': '5fe7e243539a4d487dc18b65'}  tv-N4M_zCT4   \n",
       "2  {'$oid': '5fe7e243539a4d487dc18b66'}  Ftq9Z4DFmE4   \n",
       "3  {'$oid': '5fe7e243539a4d487dc18b67'}  wulekhvNcIk   \n",
       "4  {'$oid': '5fe7e243539a4d487dc18b68'}  OVHshrqxRgo   \n",
       "\n",
       "                        author         publish_date  \\\n",
       "0   Brooklyn Community Board 6  2020-05-07T00:00:00   \n",
       "1   Brooklyn Community Board 8  2020-11-06T00:00:00   \n",
       "2  Manhattan Community Board 2  2020-10-23T00:00:00   \n",
       "3  Manhattan Community Board 3  2020-05-12T00:00:00   \n",
       "4  Manhattan Community Board 5  2020-11-06T00:00:00   \n",
       "\n",
       "                                    title  \\\n",
       "0                      COMMUNITY CHECK IN   \n",
       "1                      Land Use Committee   \n",
       "2                         Monthly Meeting   \n",
       "3  Manhattan, Landmarks Committee meeting   \n",
       "4             Landmarks Committee Meeting   \n",
       "\n",
       "                                               topic  \\\n",
       "0  [[0.4210607409477234, 'Budget'], [0.1910649240...   \n",
       "1  [[0.4097696840763092, 'Landmarks'], [0.3762851...   \n",
       "2  [[0.5453713536262512, 'Safety'], [0.0701165199...   \n",
       "3  [[0.2568089962005615, 'Employment'], [0.245191...   \n",
       "4  [[0.09517455846071243, 'Land Use'], [0.0794066...   \n",
       "\n",
       "                                      fullTranscript  \\\n",
       "0  A great turnout and it seemed like it- went pr...   \n",
       "1  Good at it today, let's see okay, so there see...   \n",
       "2  Okay, we're gonna get started. Welcome. Tonigh...   \n",
       "3  Okay, there you go yep, so welcome everybody t...   \n",
       "4  Okay, so it looks like Paul just joined us, ok...   \n",
       "\n",
       "                                          word_count   length  \n",
       "0  {'state': 17, 'businesses': 7, 'nursing': 7, '...  1:42:02  \n",
       "1  {'building': 17, 'landmarks': 9, 'units': 5, '...  2:45:00  \n",
       "2  {'restaurants': 6, 'dining': 7, 'plan': 5, 're...  2:22:36  \n",
       "3  {'tile': 4, 'facade': 5, 'staff': 9, 'residenc...  0:33:51  \n",
       "4  {'sign': 19, 'building': 17, 'plan': 5, 'maste...  1:02:10  "
      ]
     },
     "execution_count": 20,
     "metadata": {},
     "output_type": "execute_result"
    }
   ],
   "source": [
    "df.head()"
   ]
  },
  {
   "cell_type": "markdown",
   "id": "adaptive-roberts",
   "metadata": {},
   "source": [
    "### Preprocessing\n",
    "\n",
    "    0. Filter down to the last 6 months (August 01, 2021 - Feb 26, 2022)\n",
    "    1. Remove any non-CB meeting\n",
    "    2. Create column for each value in the topic value probability if over threshold.\n",
    "    3. Define threshold for each topic dictionary\n",
    "    4. Group by CB and identify top meeting topic"
   ]
  },
  {
   "cell_type": "markdown",
   "id": "colored-portugal",
   "metadata": {},
   "source": [
    "#### Filter down to the last 6 months"
   ]
  },
  {
   "cell_type": "code",
   "execution_count": 24,
   "id": "global-electronics",
   "metadata": {},
   "outputs": [
    {
     "data": {
      "text/plain": [
       "(1044, 9)"
      ]
     },
     "execution_count": 24,
     "metadata": {},
     "output_type": "execute_result"
    }
   ],
   "source": [
    "df[df.publish_date > '2021-08-01'].shape"
   ]
  },
  {
   "cell_type": "code",
   "execution_count": 25,
   "id": "ranking-talent",
   "metadata": {},
   "outputs": [],
   "source": [
    "df = df[df.publish_date > '2021-08-01']"
   ]
  },
  {
   "cell_type": "markdown",
   "id": "premier-portuguese",
   "metadata": {},
   "source": [
    "#### filter out anything that is not a CB meeting"
   ]
  },
  {
   "cell_type": "code",
   "execution_count": 43,
   "id": "orange-lucas",
   "metadata": {},
   "outputs": [
    {
     "data": {
      "text/plain": [
       "(71, 10)"
      ]
     },
     "execution_count": 43,
     "metadata": {},
     "output_type": "execute_result"
    }
   ],
   "source": [
    "# how many non-CB\n",
    "df[~df['author'].str.contains('Community')].shape"
   ]
  },
  {
   "cell_type": "code",
   "execution_count": 44,
   "id": "stretch-syria",
   "metadata": {},
   "outputs": [],
   "source": [
    "df = df[df['author'].str.contains('Community')]"
   ]
  },
  {
   "cell_type": "code",
   "execution_count": 50,
   "id": "incorrect-hobby",
   "metadata": {},
   "outputs": [
    {
     "data": {
      "text/html": [
       "<div>\n",
       "<style scoped>\n",
       "    .dataframe tbody tr th:only-of-type {\n",
       "        vertical-align: middle;\n",
       "    }\n",
       "\n",
       "    .dataframe tbody tr th {\n",
       "        vertical-align: top;\n",
       "    }\n",
       "\n",
       "    .dataframe thead th {\n",
       "        text-align: right;\n",
       "    }\n",
       "</style>\n",
       "<table border=\"1\" class=\"dataframe\">\n",
       "  <thead>\n",
       "    <tr style=\"text-align: right;\">\n",
       "      <th></th>\n",
       "      <th>obj_id</th>\n",
       "      <th>video_url</th>\n",
       "      <th>author</th>\n",
       "      <th>publish_date</th>\n",
       "      <th>title</th>\n",
       "      <th>topic</th>\n",
       "      <th>fullTranscript</th>\n",
       "      <th>word_count</th>\n",
       "      <th>length</th>\n",
       "      <th>seconds</th>\n",
       "    </tr>\n",
       "  </thead>\n",
       "  <tbody>\n",
       "    <tr>\n",
       "      <th>2058</th>\n",
       "      <td>{'$oid': '610a755500409f3bf834a3a6'}</td>\n",
       "      <td>dngxZ4nvtRM</td>\n",
       "      <td>Manhattan Community Board 1</td>\n",
       "      <td>2021-08-03T00:00:00</td>\n",
       "      <td>Land Use, Zoning &amp; Economic Development</td>\n",
       "      <td>[[0.061796315014362335, 'Infrastructure'], [0....</td>\n",
       "      <td>Welcome to the March 2020 land use, zoning and...</td>\n",
       "      <td>{'design': 8, 'space': 4, 'workshop': 5, 'buil...</td>\n",
       "      <td>1:25:04</td>\n",
       "      <td>5104</td>\n",
       "    </tr>\n",
       "    <tr>\n",
       "      <th>2059</th>\n",
       "      <td>{'$oid': '610a75e500409f3bf834a3a8'}</td>\n",
       "      <td>o-phHhpweNE</td>\n",
       "      <td>Manhattan Community Board 1</td>\n",
       "      <td>2021-08-03T00:00:00</td>\n",
       "      <td>Landmarks &amp; Preservation</td>\n",
       "      <td>[[0.5668426156044006, 'Safety'], [0.0611808523...</td>\n",
       "      <td>In the main, exhibit space most of the work wi...</td>\n",
       "      <td>{'building': 5, 'space': 6, 'sign': 5, 'street...</td>\n",
       "      <td>1:07:18</td>\n",
       "      <td>4038</td>\n",
       "    </tr>\n",
       "    <tr>\n",
       "      <th>2060</th>\n",
       "      <td>{'$oid': '610bcb2c319bd70e4e39d404'}</td>\n",
       "      <td>P1epq8hnxhc</td>\n",
       "      <td>Manhattan Community Board 1</td>\n",
       "      <td>2021-08-04T00:00:00</td>\n",
       "      <td>Licensing &amp; Permits</td>\n",
       "      <td>[[0.3489021360874176, 'Licensing'], [0.0711944...</td>\n",
       "      <td>Business for a minute, not yet so to the commi...</td>\n",
       "      <td>{'tables': 10, 'cafe': 9, 'restaurant': 5, 'ho...</td>\n",
       "      <td>1:52:23</td>\n",
       "      <td>6743</td>\n",
       "    </tr>\n",
       "    <tr>\n",
       "      <th>2061</th>\n",
       "      <td>{'$oid': '610bcb94319bd70e4e39d406'}</td>\n",
       "      <td>BwksV_B3JJI</td>\n",
       "      <td>Brooklyn Community Board 7</td>\n",
       "      <td>2021-08-04T00:00:00</td>\n",
       "      <td>Transportation Committee Meeting</td>\n",
       "      <td>[[0.3860085904598236, 'Transportation'], [0.07...</td>\n",
       "      <td>Actually, you can make your co-host as well, s...</td>\n",
       "      <td>{'street': 41, 'truck': 19, 'avenue': 18, 'tra...</td>\n",
       "      <td>1:37:11</td>\n",
       "      <td>5831</td>\n",
       "    </tr>\n",
       "    <tr>\n",
       "      <th>2062</th>\n",
       "      <td>{'$oid': '610c7cae9e0f346bfc1e64b6'}</td>\n",
       "      <td>ZjTfKqtf5a0</td>\n",
       "      <td>Manhattan Community Board 1</td>\n",
       "      <td>2021-08-05T00:00:00</td>\n",
       "      <td>Youth and Education</td>\n",
       "      <td>[[0.36873799562454224, 'Census'], [0.283629685...</td>\n",
       "      <td>And then you know, we don't I think I'm not go...</td>\n",
       "      <td>{'pier': 4, 'school': 5, 'kids': 13, 'census':...</td>\n",
       "      <td>0:37:50</td>\n",
       "      <td>2270</td>\n",
       "    </tr>\n",
       "  </tbody>\n",
       "</table>\n",
       "</div>"
      ],
      "text/plain": [
       "                                    obj_id    video_url  \\\n",
       "2058  {'$oid': '610a755500409f3bf834a3a6'}  dngxZ4nvtRM   \n",
       "2059  {'$oid': '610a75e500409f3bf834a3a8'}  o-phHhpweNE   \n",
       "2060  {'$oid': '610bcb2c319bd70e4e39d404'}  P1epq8hnxhc   \n",
       "2061  {'$oid': '610bcb94319bd70e4e39d406'}  BwksV_B3JJI   \n",
       "2062  {'$oid': '610c7cae9e0f346bfc1e64b6'}  ZjTfKqtf5a0   \n",
       "\n",
       "                           author         publish_date  \\\n",
       "2058  Manhattan Community Board 1  2021-08-03T00:00:00   \n",
       "2059  Manhattan Community Board 1  2021-08-03T00:00:00   \n",
       "2060  Manhattan Community Board 1  2021-08-04T00:00:00   \n",
       "2061   Brooklyn Community Board 7  2021-08-04T00:00:00   \n",
       "2062  Manhattan Community Board 1  2021-08-05T00:00:00   \n",
       "\n",
       "                                        title  \\\n",
       "2058  Land Use, Zoning & Economic Development   \n",
       "2059                 Landmarks & Preservation   \n",
       "2060                      Licensing & Permits   \n",
       "2061         Transportation Committee Meeting   \n",
       "2062                      Youth and Education   \n",
       "\n",
       "                                                  topic  \\\n",
       "2058  [[0.061796315014362335, 'Infrastructure'], [0....   \n",
       "2059  [[0.5668426156044006, 'Safety'], [0.0611808523...   \n",
       "2060  [[0.3489021360874176, 'Licensing'], [0.0711944...   \n",
       "2061  [[0.3860085904598236, 'Transportation'], [0.07...   \n",
       "2062  [[0.36873799562454224, 'Census'], [0.283629685...   \n",
       "\n",
       "                                         fullTranscript  \\\n",
       "2058  Welcome to the March 2020 land use, zoning and...   \n",
       "2059  In the main, exhibit space most of the work wi...   \n",
       "2060  Business for a minute, not yet so to the commi...   \n",
       "2061  Actually, you can make your co-host as well, s...   \n",
       "2062  And then you know, we don't I think I'm not go...   \n",
       "\n",
       "                                             word_count   length  seconds  \n",
       "2058  {'design': 8, 'space': 4, 'workshop': 5, 'buil...  1:25:04     5104  \n",
       "2059  {'building': 5, 'space': 6, 'sign': 5, 'street...  1:07:18     4038  \n",
       "2060  {'tables': 10, 'cafe': 9, 'restaurant': 5, 'ho...  1:52:23     6743  \n",
       "2061  {'street': 41, 'truck': 19, 'avenue': 18, 'tra...  1:37:11     5831  \n",
       "2062  {'pier': 4, 'school': 5, 'kids': 13, 'census':...  0:37:50     2270  "
      ]
     },
     "execution_count": 50,
     "metadata": {},
     "output_type": "execute_result"
    }
   ],
   "source": [
    "df.head()"
   ]
  },
  {
   "cell_type": "code",
   "execution_count": 45,
   "id": "affected-junction",
   "metadata": {},
   "outputs": [
    {
     "data": {
      "text/plain": [
       "973"
      ]
     },
     "execution_count": 45,
     "metadata": {},
     "output_type": "execute_result"
    }
   ],
   "source": [
    "# total number of transcripts\n",
    "len(df)"
   ]
  },
  {
   "cell_type": "code",
   "execution_count": 46,
   "id": "expressed-transsexual",
   "metadata": {},
   "outputs": [
    {
     "name": "stdout",
     "output_type": "stream",
     "text": [
      "5104\n"
     ]
    }
   ],
   "source": [
    "# What is the average length of a meeting?\n",
    "\n",
    "def get_sec(time_str):\n",
    "    \"\"\"Get Seconds from time.\"\"\"\n",
    "    h, m, s = time_str.split(':')\n",
    "    return int(h) * 3600 + int(m) * 60 + int(s)\n",
    "\n",
    "\n",
    "print(get_sec(df.length.head()[2058]))"
   ]
  },
  {
   "cell_type": "markdown",
   "id": "modern-dominican",
   "metadata": {},
   "source": [
    "- Convert to seconds\n",
    "- Convert back to hours:minutes:seconds"
   ]
  },
  {
   "cell_type": "code",
   "execution_count": 51,
   "id": "integrated-bernard",
   "metadata": {},
   "outputs": [],
   "source": [
    "df['seconds'] = df.length.apply(lambda x: get_sec(x))"
   ]
  },
  {
   "cell_type": "code",
   "execution_count": 52,
   "id": "unknown-energy",
   "metadata": {},
   "outputs": [
    {
     "data": {
      "text/plain": [
       "6583.105858170607"
      ]
     },
     "execution_count": 52,
     "metadata": {},
     "output_type": "execute_result"
    }
   ],
   "source": [
    "df['seconds'].mean()"
   ]
  },
  {
   "cell_type": "code",
   "execution_count": 53,
   "id": "exterior-fortune",
   "metadata": {},
   "outputs": [
    {
     "data": {
      "text/plain": [
       "'1:49:43.105858'"
      ]
     },
     "execution_count": 53,
     "metadata": {},
     "output_type": "execute_result"
    }
   ],
   "source": [
    "# Average length of meeting over the last 6 months\n",
    "str(datetime.timedelta(seconds=df['seconds'].mean()))"
   ]
  },
  {
   "cell_type": "code",
   "execution_count": 39,
   "id": "polished-economics",
   "metadata": {},
   "outputs": [],
   "source": [
    "# What was the longest meeting?"
   ]
  },
  {
   "cell_type": "code",
   "execution_count": 54,
   "id": "progressive-jamaica",
   "metadata": {},
   "outputs": [
    {
     "data": {
      "text/plain": [
       "'6:19:13'"
      ]
     },
     "execution_count": 54,
     "metadata": {},
     "output_type": "execute_result"
    }
   ],
   "source": [
    "df['length'].max()"
   ]
  },
  {
   "cell_type": "code",
   "execution_count": 61,
   "id": "fresh-lindsay",
   "metadata": {},
   "outputs": [
    {
     "data": {
      "text/html": [
       "<div>\n",
       "<style scoped>\n",
       "    .dataframe tbody tr th:only-of-type {\n",
       "        vertical-align: middle;\n",
       "    }\n",
       "\n",
       "    .dataframe tbody tr th {\n",
       "        vertical-align: top;\n",
       "    }\n",
       "\n",
       "    .dataframe thead th {\n",
       "        text-align: right;\n",
       "    }\n",
       "</style>\n",
       "<table border=\"1\" class=\"dataframe\">\n",
       "  <thead>\n",
       "    <tr style=\"text-align: right;\">\n",
       "      <th></th>\n",
       "      <th>obj_id</th>\n",
       "      <th>video_url</th>\n",
       "      <th>author</th>\n",
       "      <th>publish_date</th>\n",
       "      <th>title</th>\n",
       "      <th>topic</th>\n",
       "      <th>fullTranscript</th>\n",
       "      <th>word_count</th>\n",
       "      <th>length</th>\n",
       "      <th>seconds</th>\n",
       "    </tr>\n",
       "  </thead>\n",
       "  <tbody>\n",
       "    <tr>\n",
       "      <th>2182</th>\n",
       "      <td>{'$oid': '61435d5dd38e0dc51836be58'}</td>\n",
       "      <td>LGOU_YFtNo8</td>\n",
       "      <td>Brooklyn Community Board 1</td>\n",
       "      <td>2021-09-15T00:00:00</td>\n",
       "      <td>Combined Public Hearing and Board Meeting</td>\n",
       "      <td>[[0.2225257307291031, 'Parks'], [0.20844766497...</td>\n",
       "      <td>Call to order public hearing jerry can I have ...</td>\n",
       "      <td>{'project': 47, 'bridge': 15, 'conditions': 33...</td>\n",
       "      <td>6:19:13</td>\n",
       "      <td>22753</td>\n",
       "    </tr>\n",
       "  </tbody>\n",
       "</table>\n",
       "</div>"
      ],
      "text/plain": [
       "                                    obj_id    video_url  \\\n",
       "2182  {'$oid': '61435d5dd38e0dc51836be58'}  LGOU_YFtNo8   \n",
       "\n",
       "                          author         publish_date  \\\n",
       "2182  Brooklyn Community Board 1  2021-09-15T00:00:00   \n",
       "\n",
       "                                          title  \\\n",
       "2182  Combined Public Hearing and Board Meeting   \n",
       "\n",
       "                                                  topic  \\\n",
       "2182  [[0.2225257307291031, 'Parks'], [0.20844766497...   \n",
       "\n",
       "                                         fullTranscript  \\\n",
       "2182  Call to order public hearing jerry can I have ...   \n",
       "\n",
       "                                             word_count   length  seconds  \n",
       "2182  {'project': 47, 'bridge': 15, 'conditions': 33...  6:19:13    22753  "
      ]
     },
     "execution_count": 61,
     "metadata": {},
     "output_type": "execute_result"
    }
   ],
   "source": [
    "# which meeting was this?\n",
    "df[df['length'] == df['length'].max()]"
   ]
  },
  {
   "cell_type": "code",
   "execution_count": 60,
   "id": "suspended-melissa",
   "metadata": {},
   "outputs": [
    {
     "name": "stdout",
     "output_type": "stream",
     "text": [
      "[{'project': 47, 'bridge': 15, 'conditions': 33, 'street': 14, 'building': 19, 'space': 22, 'traffic': 81, 'housing': 21, 'park': 18, 'neighborhood': 64, 'land': 16, 'river': 15}]\n"
     ]
    }
   ],
   "source": [
    "# topics discussed\n",
    "print(df[df['length'] == df['length'].max()].word_count.values)"
   ]
  },
  {
   "cell_type": "markdown",
   "id": "psychological-humanitarian",
   "metadata": {},
   "source": [
    "The longest community board meeting from the last 6 months was 6 hours, 19 minutes, and 13 seconds. It was from Brooklyn Community Board 1 for a Combined Public Hearing and Board Meeting about Williamsburg River Ring Proposal that was eventually approved for rezoning in this meeting.\n",
    "\n",
    "Here is a related link: https://brooklyneagle.com/articles/2021/09/15/its-official-community-board-1-approves-transformative-river-ring/"
   ]
  },
  {
   "cell_type": "code",
   "execution_count": 71,
   "id": "engaging-monaco",
   "metadata": {},
   "outputs": [],
   "source": [
    "# For each Topic, output probability. We will visualize the mean and distributions."
   ]
  },
  {
   "cell_type": "markdown",
   "id": "affected-backing",
   "metadata": {},
   "source": [
    "How to define threshold:\n",
    "\n",
    "**Background:**\n",
    "\n",
    "Multi-class zero-shot learning from HuggingFace.\n",
    "    - softmax logit function\n",
    "    - output probability [0,1] for each candidate label\n",
    "    - each candidate label probability is independent and therefore do not sum to 1\n",
    "\n",
    "When multi_class=True, we do a softmax over entailment vs contradiction for each candidate label independently, i.e. logits[:,[0,-1]].softmax(dim=1)[:,-1]. This gives a probability for each candidate label between 0 and 1, but they are independent and do not sum to 1."
   ]
  },
  {
   "cell_type": "markdown",
   "id": "silent-investing",
   "metadata": {},
   "source": [
    "#### Create column for each topic\n",
    "\n",
    "Since it is a multi-class each meeting will have all the candidate topics as column header. "
   ]
  },
  {
   "cell_type": "code",
   "execution_count": 72,
   "id": "adapted-generic",
   "metadata": {},
   "outputs": [],
   "source": [
    "# convert to literal value\n",
    "df.topic = df.topic.apply(lambda x: ast.literal_eval(x))"
   ]
  },
  {
   "cell_type": "code",
   "execution_count": 120,
   "id": "useful-burlington",
   "metadata": {},
   "outputs": [],
   "source": [
    "#df.head(1)['topic'].values[0]"
   ]
  },
  {
   "cell_type": "code",
   "execution_count": 113,
   "id": "monetary-relief",
   "metadata": {
    "scrolled": true
   },
   "outputs": [
    {
     "data": {
      "text/html": [
       "<div>\n",
       "<style scoped>\n",
       "    .dataframe tbody tr th:only-of-type {\n",
       "        vertical-align: middle;\n",
       "    }\n",
       "\n",
       "    .dataframe tbody tr th {\n",
       "        vertical-align: top;\n",
       "    }\n",
       "\n",
       "    .dataframe thead th {\n",
       "        text-align: right;\n",
       "    }\n",
       "</style>\n",
       "<table border=\"1\" class=\"dataframe\">\n",
       "  <thead>\n",
       "    <tr style=\"text-align: right;\">\n",
       "      <th></th>\n",
       "      <th>0</th>\n",
       "      <th>1</th>\n",
       "      <th>2</th>\n",
       "      <th>3</th>\n",
       "      <th>4</th>\n",
       "      <th>5</th>\n",
       "      <th>6</th>\n",
       "      <th>7</th>\n",
       "      <th>8</th>\n",
       "      <th>9</th>\n",
       "      <th>...</th>\n",
       "      <th>17</th>\n",
       "      <th>18</th>\n",
       "      <th>19</th>\n",
       "      <th>20</th>\n",
       "      <th>21</th>\n",
       "      <th>22</th>\n",
       "      <th>23</th>\n",
       "      <th>24</th>\n",
       "      <th>25</th>\n",
       "      <th>26</th>\n",
       "    </tr>\n",
       "  </thead>\n",
       "  <tbody>\n",
       "    <tr>\n",
       "      <th>1</th>\n",
       "      <td>Infrastructure</td>\n",
       "      <td>Seniors</td>\n",
       "      <td>Waterfront</td>\n",
       "      <td>Youth</td>\n",
       "      <td>Parks</td>\n",
       "      <td>Land Use</td>\n",
       "      <td>Zoning</td>\n",
       "      <td>Housing</td>\n",
       "      <td>Safety</td>\n",
       "      <td>Equity</td>\n",
       "      <td>...</td>\n",
       "      <td>Commercial Development</td>\n",
       "      <td>Utilities</td>\n",
       "      <td>Licensing</td>\n",
       "      <td>Education</td>\n",
       "      <td>Census</td>\n",
       "      <td>Libraries</td>\n",
       "      <td>Sanitation</td>\n",
       "      <td>Human Services</td>\n",
       "      <td>Budget</td>\n",
       "      <td>Elections</td>\n",
       "    </tr>\n",
       "    <tr>\n",
       "      <th>0</th>\n",
       "      <td>0.061796</td>\n",
       "      <td>0.056422</td>\n",
       "      <td>0.049222</td>\n",
       "      <td>0.048046</td>\n",
       "      <td>0.045914</td>\n",
       "      <td>0.044729</td>\n",
       "      <td>0.043673</td>\n",
       "      <td>0.04128</td>\n",
       "      <td>0.041079</td>\n",
       "      <td>0.04033</td>\n",
       "      <td>...</td>\n",
       "      <td>0.036188</td>\n",
       "      <td>0.033453</td>\n",
       "      <td>0.031418</td>\n",
       "      <td>0.027865</td>\n",
       "      <td>0.027192</td>\n",
       "      <td>0.026341</td>\n",
       "      <td>0.024352</td>\n",
       "      <td>0.021665</td>\n",
       "      <td>0.017706</td>\n",
       "      <td>0.009059</td>\n",
       "    </tr>\n",
       "  </tbody>\n",
       "</table>\n",
       "<p>2 rows × 27 columns</p>\n",
       "</div>"
      ],
      "text/plain": [
       "               0         1           2         3         4         5   \\\n",
       "1  Infrastructure   Seniors  Waterfront     Youth     Parks  Land Use   \n",
       "0        0.061796  0.056422    0.049222  0.048046  0.045914  0.044729   \n",
       "\n",
       "         6        7         8        9   ...                      17  \\\n",
       "1    Zoning  Housing    Safety   Equity  ...  Commercial Development   \n",
       "0  0.043673  0.04128  0.041079  0.04033  ...                0.036188   \n",
       "\n",
       "          18         19         20        21         22          23  \\\n",
       "1  Utilities  Licensing  Education    Census  Libraries  Sanitation   \n",
       "0   0.033453   0.031418   0.027865  0.027192   0.026341    0.024352   \n",
       "\n",
       "               24        25         26  \n",
       "1  Human Services    Budget  Elections  \n",
       "0        0.021665  0.017706   0.009059  \n",
       "\n",
       "[2 rows x 27 columns]"
      ]
     },
     "execution_count": 113,
     "metadata": {},
     "output_type": "execute_result"
    }
   ],
   "source": [
    "pd.DataFrame(df.head(1)['topic'].values[0])[[1,0]].T"
   ]
  },
  {
   "cell_type": "code",
   "execution_count": null,
   "id": "three-hierarchy",
   "metadata": {},
   "outputs": [],
   "source": [
    "# convert to dictionary"
   ]
  },
  {
   "cell_type": "code",
   "execution_count": 123,
   "id": "handy-magnitude",
   "metadata": {},
   "outputs": [],
   "source": [
    "df.topic = df.topic.apply(lambda x: {k[0]: k[1:] for k in x})"
   ]
  },
  {
   "cell_type": "code",
   "execution_count": 125,
   "id": "wired-spectrum",
   "metadata": {},
   "outputs": [],
   "source": [
    "# switch the order\n",
    "df.topic =  df.topic.apply(lambda topic_dict : dict((y[0],x) for x,y in topic_dict.items()))"
   ]
  },
  {
   "cell_type": "code",
   "execution_count": 126,
   "id": "pressing-snapshot",
   "metadata": {},
   "outputs": [
    {
     "data": {
      "text/plain": [
       "2058    {'Infrastructure': 0.061796315014362335, 'Seni...\n",
       "2059    {'Safety': 0.5668426156044006, 'Housing': 0.06...\n",
       "2060    {'Licensing': 0.3489021360874176, 'Quality of ...\n",
       "2061    {'Transportation': 0.3860085904598236, 'Infras...\n",
       "2062    {'Census': 0.36873799562454224, 'Parks': 0.283...\n",
       "Name: topic, dtype: object"
      ]
     },
     "execution_count": 126,
     "metadata": {},
     "output_type": "execute_result"
    }
   ],
   "source": [
    "df.topic.head()"
   ]
  },
  {
   "cell_type": "code",
   "execution_count": 162,
   "id": "municipal-negative",
   "metadata": {},
   "outputs": [],
   "source": [
    "# Create empty columns for each topic\n",
    "df = pd.concat([df, df.reindex(columns=list(topics_tax))], axis=1)"
   ]
  },
  {
   "cell_type": "code",
   "execution_count": 163,
   "id": "continuous-station",
   "metadata": {},
   "outputs": [
    {
     "data": {
      "text/html": [
       "<div>\n",
       "<style scoped>\n",
       "    .dataframe tbody tr th:only-of-type {\n",
       "        vertical-align: middle;\n",
       "    }\n",
       "\n",
       "    .dataframe tbody tr th {\n",
       "        vertical-align: top;\n",
       "    }\n",
       "\n",
       "    .dataframe thead th {\n",
       "        text-align: right;\n",
       "    }\n",
       "</style>\n",
       "<table border=\"1\" class=\"dataframe\">\n",
       "  <thead>\n",
       "    <tr style=\"text-align: right;\">\n",
       "      <th></th>\n",
       "      <th>obj_id</th>\n",
       "      <th>video_url</th>\n",
       "      <th>author</th>\n",
       "      <th>publish_date</th>\n",
       "      <th>title</th>\n",
       "      <th>topic</th>\n",
       "      <th>fullTranscript</th>\n",
       "      <th>word_count</th>\n",
       "      <th>length</th>\n",
       "      <th>seconds</th>\n",
       "      <th>...</th>\n",
       "      <th>Health</th>\n",
       "      <th>Licensing</th>\n",
       "      <th>Utilities</th>\n",
       "      <th>Human Services</th>\n",
       "      <th>Budget</th>\n",
       "      <th>Libraries</th>\n",
       "      <th>Education</th>\n",
       "      <th>Sanitation</th>\n",
       "      <th>Police</th>\n",
       "      <th>Elections</th>\n",
       "    </tr>\n",
       "  </thead>\n",
       "  <tbody>\n",
       "    <tr>\n",
       "      <th>2058</th>\n",
       "      <td>{'$oid': '610a755500409f3bf834a3a6'}</td>\n",
       "      <td>dngxZ4nvtRM</td>\n",
       "      <td>Manhattan Community Board 1</td>\n",
       "      <td>2021-08-03T00:00:00</td>\n",
       "      <td>Land Use, Zoning &amp; Economic Development</td>\n",
       "      <td>{'Infrastructure': 0.061796315014362335, 'Seni...</td>\n",
       "      <td>Welcome to the March 2020 land use, zoning and...</td>\n",
       "      <td>{'design': 8, 'space': 4, 'workshop': 5, 'buil...</td>\n",
       "      <td>1:25:04</td>\n",
       "      <td>5104</td>\n",
       "      <td>...</td>\n",
       "      <td>NaN</td>\n",
       "      <td>NaN</td>\n",
       "      <td>NaN</td>\n",
       "      <td>NaN</td>\n",
       "      <td>NaN</td>\n",
       "      <td>NaN</td>\n",
       "      <td>NaN</td>\n",
       "      <td>NaN</td>\n",
       "      <td>NaN</td>\n",
       "      <td>NaN</td>\n",
       "    </tr>\n",
       "  </tbody>\n",
       "</table>\n",
       "<p>1 rows × 37 columns</p>\n",
       "</div>"
      ],
      "text/plain": [
       "                                    obj_id    video_url  \\\n",
       "2058  {'$oid': '610a755500409f3bf834a3a6'}  dngxZ4nvtRM   \n",
       "\n",
       "                           author         publish_date  \\\n",
       "2058  Manhattan Community Board 1  2021-08-03T00:00:00   \n",
       "\n",
       "                                        title  \\\n",
       "2058  Land Use, Zoning & Economic Development   \n",
       "\n",
       "                                                  topic  \\\n",
       "2058  {'Infrastructure': 0.061796315014362335, 'Seni...   \n",
       "\n",
       "                                         fullTranscript  \\\n",
       "2058  Welcome to the March 2020 land use, zoning and...   \n",
       "\n",
       "                                             word_count   length  seconds  \\\n",
       "2058  {'design': 8, 'space': 4, 'workshop': 5, 'buil...  1:25:04     5104   \n",
       "\n",
       "      ...  Health  Licensing  Utilities  Human Services  Budget  Libraries  \\\n",
       "2058  ...     NaN        NaN        NaN             NaN     NaN        NaN   \n",
       "\n",
       "      Education  Sanitation  Police  Elections  \n",
       "2058        NaN         NaN     NaN        NaN  \n",
       "\n",
       "[1 rows x 37 columns]"
      ]
     },
     "execution_count": 163,
     "metadata": {},
     "output_type": "execute_result"
    }
   ],
   "source": [
    "df.head(1)"
   ]
  },
  {
   "cell_type": "markdown",
   "id": "cardiovascular-sunset",
   "metadata": {},
   "source": [
    "For each column fill with value from dictionary"
   ]
  },
  {
   "cell_type": "code",
   "execution_count": 164,
   "id": "dirty-puppy",
   "metadata": {},
   "outputs": [],
   "source": [
    "test = df[df['length'] == df['length'].max()]"
   ]
  },
  {
   "cell_type": "code",
   "execution_count": 186,
   "id": "norwegian-offering",
   "metadata": {},
   "outputs": [
    {
     "data": {
      "text/plain": [
       "['Parks',\n",
       " 'Housing',\n",
       " 'Land Use',\n",
       " 'Infrastructure',\n",
       " 'Transportation',\n",
       " 'Quality of Life',\n",
       " 'Safety',\n",
       " 'Waterfront',\n",
       " 'Technology',\n",
       " 'Zoning',\n",
       " 'Commercial Development',\n",
       " 'Equity',\n",
       " 'Arts and Culture',\n",
       " 'Youth',\n",
       " 'Census',\n",
       " 'Seniors',\n",
       " 'Employment',\n",
       " 'Health',\n",
       " 'Licensing',\n",
       " 'Utilities',\n",
       " 'Human Services',\n",
       " 'Budget',\n",
       " 'Libraries',\n",
       " 'Education',\n",
       " 'Sanitation',\n",
       " 'Police',\n",
       " 'Elections']"
      ]
     },
     "execution_count": 186,
     "metadata": {},
     "output_type": "execute_result"
    }
   ],
   "source": [
    "topics_tax"
   ]
  },
  {
   "cell_type": "code",
   "execution_count": 190,
   "id": "daily-decline",
   "metadata": {},
   "outputs": [
    {
     "name": "stderr",
     "output_type": "stream",
     "text": [
      "<ipython-input-190-14e6ee300b32>:2: SettingWithCopyWarning: \n",
      "A value is trying to be set on a copy of a slice from a DataFrame.\n",
      "Try using .loc[row_indexer,col_indexer] = value instead\n",
      "\n",
      "See the caveats in the documentation: https://pandas.pydata.org/pandas-docs/stable/user_guide/indexing.html#returning-a-view-versus-a-copy\n",
      "  test[i] = test.topic.apply(lambda x: x.get(i))\n"
     ]
    }
   ],
   "source": [
    "for i in topics_tax:\n",
    "    test[i] = test.topic.apply(lambda x: x.get(i))"
   ]
  },
  {
   "cell_type": "code",
   "execution_count": 191,
   "id": "occasional-address",
   "metadata": {},
   "outputs": [
    {
     "data": {
      "text/html": [
       "<div>\n",
       "<style scoped>\n",
       "    .dataframe tbody tr th:only-of-type {\n",
       "        vertical-align: middle;\n",
       "    }\n",
       "\n",
       "    .dataframe tbody tr th {\n",
       "        vertical-align: top;\n",
       "    }\n",
       "\n",
       "    .dataframe thead th {\n",
       "        text-align: right;\n",
       "    }\n",
       "</style>\n",
       "<table border=\"1\" class=\"dataframe\">\n",
       "  <thead>\n",
       "    <tr style=\"text-align: right;\">\n",
       "      <th></th>\n",
       "      <th>obj_id</th>\n",
       "      <th>video_url</th>\n",
       "      <th>author</th>\n",
       "      <th>publish_date</th>\n",
       "      <th>title</th>\n",
       "      <th>topic</th>\n",
       "      <th>fullTranscript</th>\n",
       "      <th>word_count</th>\n",
       "      <th>length</th>\n",
       "      <th>seconds</th>\n",
       "      <th>Parks</th>\n",
       "      <th>Housing</th>\n",
       "      <th>Land Use</th>\n",
       "      <th>Infrastructure</th>\n",
       "      <th>Transportation</th>\n",
       "      <th>Quality of Life</th>\n",
       "      <th>Safety</th>\n",
       "      <th>Waterfront</th>\n",
       "      <th>Technology</th>\n",
       "      <th>Zoning</th>\n",
       "      <th>Commercial Development</th>\n",
       "      <th>Equity</th>\n",
       "      <th>Arts and Culture</th>\n",
       "      <th>Youth</th>\n",
       "      <th>Census</th>\n",
       "      <th>Seniors</th>\n",
       "      <th>Employment</th>\n",
       "      <th>Health</th>\n",
       "      <th>Licensing</th>\n",
       "      <th>Utilities</th>\n",
       "      <th>Human Services</th>\n",
       "      <th>Budget</th>\n",
       "      <th>Libraries</th>\n",
       "      <th>Education</th>\n",
       "      <th>Sanitation</th>\n",
       "      <th>Police</th>\n",
       "      <th>Elections</th>\n",
       "    </tr>\n",
       "  </thead>\n",
       "  <tbody>\n",
       "    <tr>\n",
       "      <th>2182</th>\n",
       "      <td>{'$oid': '61435d5dd38e0dc51836be58'}</td>\n",
       "      <td>LGOU_YFtNo8</td>\n",
       "      <td>Brooklyn Community Board 1</td>\n",
       "      <td>2021-09-15T00:00:00</td>\n",
       "      <td>Combined Public Hearing and Board Meeting</td>\n",
       "      <td>{'Parks': 0.2225257307291031, 'Housing': 0.208...</td>\n",
       "      <td>Call to order public hearing jerry can I have ...</td>\n",
       "      <td>{'project': 47, 'bridge': 15, 'conditions': 33...</td>\n",
       "      <td>6:19:13</td>\n",
       "      <td>22753</td>\n",
       "      <td>0.222526</td>\n",
       "      <td>0.208448</td>\n",
       "      <td>0.189873</td>\n",
       "      <td>0.159264</td>\n",
       "      <td>0.059212</td>\n",
       "      <td>0.042353</td>\n",
       "      <td>0.016891</td>\n",
       "      <td>0.015579</td>\n",
       "      <td>0.009441</td>\n",
       "      <td>0.009109</td>\n",
       "      <td>0.00749</td>\n",
       "      <td>0.007298</td>\n",
       "      <td>0.006257</td>\n",
       "      <td>0.006143</td>\n",
       "      <td>0.005859</td>\n",
       "      <td>0.005551</td>\n",
       "      <td>0.004672</td>\n",
       "      <td>0.004229</td>\n",
       "      <td>0.003153</td>\n",
       "      <td>0.002986</td>\n",
       "      <td>0.002567</td>\n",
       "      <td>0.002473</td>\n",
       "      <td>0.002145</td>\n",
       "      <td>0.001873</td>\n",
       "      <td>0.001737</td>\n",
       "      <td>0.001615</td>\n",
       "      <td>0.001256</td>\n",
       "    </tr>\n",
       "  </tbody>\n",
       "</table>\n",
       "</div>"
      ],
      "text/plain": [
       "                                    obj_id    video_url  \\\n",
       "2182  {'$oid': '61435d5dd38e0dc51836be58'}  LGOU_YFtNo8   \n",
       "\n",
       "                          author         publish_date  \\\n",
       "2182  Brooklyn Community Board 1  2021-09-15T00:00:00   \n",
       "\n",
       "                                          title  \\\n",
       "2182  Combined Public Hearing and Board Meeting   \n",
       "\n",
       "                                                  topic  \\\n",
       "2182  {'Parks': 0.2225257307291031, 'Housing': 0.208...   \n",
       "\n",
       "                                         fullTranscript  \\\n",
       "2182  Call to order public hearing jerry can I have ...   \n",
       "\n",
       "                                             word_count   length  seconds  \\\n",
       "2182  {'project': 47, 'bridge': 15, 'conditions': 33...  6:19:13    22753   \n",
       "\n",
       "         Parks   Housing  Land Use  Infrastructure  Transportation  \\\n",
       "2182  0.222526  0.208448  0.189873        0.159264        0.059212   \n",
       "\n",
       "      Quality of Life    Safety  Waterfront  Technology    Zoning  \\\n",
       "2182         0.042353  0.016891    0.015579    0.009441  0.009109   \n",
       "\n",
       "      Commercial Development    Equity  Arts and Culture     Youth    Census  \\\n",
       "2182                 0.00749  0.007298          0.006257  0.006143  0.005859   \n",
       "\n",
       "       Seniors  Employment    Health  Licensing  Utilities  Human Services  \\\n",
       "2182  0.005551    0.004672  0.004229   0.003153   0.002986        0.002567   \n",
       "\n",
       "        Budget  Libraries  Education  Sanitation    Police  Elections  \n",
       "2182  0.002473   0.002145   0.001873    0.001737  0.001615   0.001256  "
      ]
     },
     "execution_count": 191,
     "metadata": {},
     "output_type": "execute_result"
    }
   ],
   "source": [
    "test"
   ]
  },
  {
   "cell_type": "code",
   "execution_count": 192,
   "id": "suffering-drain",
   "metadata": {},
   "outputs": [],
   "source": [
    "for i in topics_tax:\n",
    "    df[i] = df.topic.apply(lambda x: x.get(i))"
   ]
  },
  {
   "cell_type": "code",
   "execution_count": 193,
   "id": "gorgeous-madagascar",
   "metadata": {},
   "outputs": [
    {
     "data": {
      "text/html": [
       "<div>\n",
       "<style scoped>\n",
       "    .dataframe tbody tr th:only-of-type {\n",
       "        vertical-align: middle;\n",
       "    }\n",
       "\n",
       "    .dataframe tbody tr th {\n",
       "        vertical-align: top;\n",
       "    }\n",
       "\n",
       "    .dataframe thead th {\n",
       "        text-align: right;\n",
       "    }\n",
       "</style>\n",
       "<table border=\"1\" class=\"dataframe\">\n",
       "  <thead>\n",
       "    <tr style=\"text-align: right;\">\n",
       "      <th></th>\n",
       "      <th>obj_id</th>\n",
       "      <th>video_url</th>\n",
       "      <th>author</th>\n",
       "      <th>publish_date</th>\n",
       "      <th>title</th>\n",
       "      <th>topic</th>\n",
       "      <th>fullTranscript</th>\n",
       "      <th>word_count</th>\n",
       "      <th>length</th>\n",
       "      <th>seconds</th>\n",
       "      <th>Parks</th>\n",
       "      <th>Housing</th>\n",
       "      <th>Land Use</th>\n",
       "      <th>Infrastructure</th>\n",
       "      <th>Transportation</th>\n",
       "      <th>Quality of Life</th>\n",
       "      <th>Safety</th>\n",
       "      <th>Waterfront</th>\n",
       "      <th>Technology</th>\n",
       "      <th>Zoning</th>\n",
       "      <th>Commercial Development</th>\n",
       "      <th>Equity</th>\n",
       "      <th>Arts and Culture</th>\n",
       "      <th>Youth</th>\n",
       "      <th>Census</th>\n",
       "      <th>Seniors</th>\n",
       "      <th>Employment</th>\n",
       "      <th>Health</th>\n",
       "      <th>Licensing</th>\n",
       "      <th>Utilities</th>\n",
       "      <th>Human Services</th>\n",
       "      <th>Budget</th>\n",
       "      <th>Libraries</th>\n",
       "      <th>Education</th>\n",
       "      <th>Sanitation</th>\n",
       "      <th>Police</th>\n",
       "      <th>Elections</th>\n",
       "    </tr>\n",
       "  </thead>\n",
       "  <tbody>\n",
       "    <tr>\n",
       "      <th>2058</th>\n",
       "      <td>{'$oid': '610a755500409f3bf834a3a6'}</td>\n",
       "      <td>dngxZ4nvtRM</td>\n",
       "      <td>Manhattan Community Board 1</td>\n",
       "      <td>2021-08-03T00:00:00</td>\n",
       "      <td>Land Use, Zoning &amp; Economic Development</td>\n",
       "      <td>{'Infrastructure': 0.061796315014362335, 'Seni...</td>\n",
       "      <td>Welcome to the March 2020 land use, zoning and...</td>\n",
       "      <td>{'design': 8, 'space': 4, 'workshop': 5, 'buil...</td>\n",
       "      <td>1:25:04</td>\n",
       "      <td>5104</td>\n",
       "      <td>0.045914</td>\n",
       "      <td>0.041280</td>\n",
       "      <td>0.044729</td>\n",
       "      <td>0.061796</td>\n",
       "      <td>0.039568</td>\n",
       "      <td>0.039262</td>\n",
       "      <td>0.041079</td>\n",
       "      <td>0.049222</td>\n",
       "      <td>0.038071</td>\n",
       "      <td>0.043673</td>\n",
       "      <td>0.036188</td>\n",
       "      <td>0.040330</td>\n",
       "      <td>0.039233</td>\n",
       "      <td>0.048046</td>\n",
       "      <td>0.027192</td>\n",
       "      <td>0.056422</td>\n",
       "      <td>0.039916</td>\n",
       "      <td>0.039297</td>\n",
       "      <td>0.031418</td>\n",
       "      <td>0.033453</td>\n",
       "      <td>0.021665</td>\n",
       "      <td>0.017706</td>\n",
       "      <td>0.026341</td>\n",
       "      <td>0.027865</td>\n",
       "      <td>0.024352</td>\n",
       "      <td>0.036923</td>\n",
       "      <td>0.009059</td>\n",
       "    </tr>\n",
       "    <tr>\n",
       "      <th>2059</th>\n",
       "      <td>{'$oid': '610a75e500409f3bf834a3a8'}</td>\n",
       "      <td>o-phHhpweNE</td>\n",
       "      <td>Manhattan Community Board 1</td>\n",
       "      <td>2021-08-03T00:00:00</td>\n",
       "      <td>Landmarks &amp; Preservation</td>\n",
       "      <td>{'Safety': 0.5668426156044006, 'Housing': 0.06...</td>\n",
       "      <td>In the main, exhibit space most of the work wi...</td>\n",
       "      <td>{'building': 5, 'space': 6, 'sign': 5, 'street...</td>\n",
       "      <td>1:07:18</td>\n",
       "      <td>4038</td>\n",
       "      <td>0.009537</td>\n",
       "      <td>0.061181</td>\n",
       "      <td>0.016841</td>\n",
       "      <td>0.026293</td>\n",
       "      <td>0.007849</td>\n",
       "      <td>0.047765</td>\n",
       "      <td>0.566843</td>\n",
       "      <td>0.013764</td>\n",
       "      <td>0.008692</td>\n",
       "      <td>0.008414</td>\n",
       "      <td>0.036526</td>\n",
       "      <td>0.012365</td>\n",
       "      <td>0.041751</td>\n",
       "      <td>0.013767</td>\n",
       "      <td>0.006058</td>\n",
       "      <td>0.011357</td>\n",
       "      <td>0.029886</td>\n",
       "      <td>0.012163</td>\n",
       "      <td>0.025517</td>\n",
       "      <td>0.013788</td>\n",
       "      <td>0.003797</td>\n",
       "      <td>0.007291</td>\n",
       "      <td>0.003867</td>\n",
       "      <td>0.003475</td>\n",
       "      <td>0.003465</td>\n",
       "      <td>0.005798</td>\n",
       "      <td>0.001950</td>\n",
       "    </tr>\n",
       "    <tr>\n",
       "      <th>2060</th>\n",
       "      <td>{'$oid': '610bcb2c319bd70e4e39d404'}</td>\n",
       "      <td>P1epq8hnxhc</td>\n",
       "      <td>Manhattan Community Board 1</td>\n",
       "      <td>2021-08-04T00:00:00</td>\n",
       "      <td>Licensing &amp; Permits</td>\n",
       "      <td>{'Licensing': 0.3489021360874176, 'Quality of ...</td>\n",
       "      <td>Business for a minute, not yet so to the commi...</td>\n",
       "      <td>{'tables': 10, 'cafe': 9, 'restaurant': 5, 'ho...</td>\n",
       "      <td>1:52:23</td>\n",
       "      <td>6743</td>\n",
       "      <td>0.029161</td>\n",
       "      <td>0.013302</td>\n",
       "      <td>0.019226</td>\n",
       "      <td>0.016522</td>\n",
       "      <td>0.015708</td>\n",
       "      <td>0.071194</td>\n",
       "      <td>0.041244</td>\n",
       "      <td>0.030502</td>\n",
       "      <td>0.019864</td>\n",
       "      <td>0.025603</td>\n",
       "      <td>0.026338</td>\n",
       "      <td>0.044275</td>\n",
       "      <td>0.020947</td>\n",
       "      <td>0.036984</td>\n",
       "      <td>0.041070</td>\n",
       "      <td>0.031636</td>\n",
       "      <td>0.045766</td>\n",
       "      <td>0.034821</td>\n",
       "      <td>0.348902</td>\n",
       "      <td>0.017671</td>\n",
       "      <td>0.010788</td>\n",
       "      <td>0.020219</td>\n",
       "      <td>0.010306</td>\n",
       "      <td>0.010597</td>\n",
       "      <td>0.006926</td>\n",
       "      <td>0.004249</td>\n",
       "      <td>0.006179</td>\n",
       "    </tr>\n",
       "    <tr>\n",
       "      <th>2061</th>\n",
       "      <td>{'$oid': '610bcb94319bd70e4e39d406'}</td>\n",
       "      <td>BwksV_B3JJI</td>\n",
       "      <td>Brooklyn Community Board 7</td>\n",
       "      <td>2021-08-04T00:00:00</td>\n",
       "      <td>Transportation Committee Meeting</td>\n",
       "      <td>{'Transportation': 0.3860085904598236, 'Infras...</td>\n",
       "      <td>Actually, you can make your co-host as well, s...</td>\n",
       "      <td>{'street': 41, 'truck': 19, 'avenue': 18, 'tra...</td>\n",
       "      <td>1:37:11</td>\n",
       "      <td>5831</td>\n",
       "      <td>0.026333</td>\n",
       "      <td>0.011344</td>\n",
       "      <td>0.047123</td>\n",
       "      <td>0.070630</td>\n",
       "      <td>0.386009</td>\n",
       "      <td>0.067881</td>\n",
       "      <td>0.042146</td>\n",
       "      <td>0.020450</td>\n",
       "      <td>0.024307</td>\n",
       "      <td>0.022833</td>\n",
       "      <td>0.016072</td>\n",
       "      <td>0.043127</td>\n",
       "      <td>0.008197</td>\n",
       "      <td>0.026501</td>\n",
       "      <td>0.020633</td>\n",
       "      <td>0.018363</td>\n",
       "      <td>0.030260</td>\n",
       "      <td>0.021319</td>\n",
       "      <td>0.017726</td>\n",
       "      <td>0.019709</td>\n",
       "      <td>0.005683</td>\n",
       "      <td>0.012857</td>\n",
       "      <td>0.006987</td>\n",
       "      <td>0.007613</td>\n",
       "      <td>0.015458</td>\n",
       "      <td>0.005716</td>\n",
       "      <td>0.004722</td>\n",
       "    </tr>\n",
       "    <tr>\n",
       "      <th>2062</th>\n",
       "      <td>{'$oid': '610c7cae9e0f346bfc1e64b6'}</td>\n",
       "      <td>ZjTfKqtf5a0</td>\n",
       "      <td>Manhattan Community Board 1</td>\n",
       "      <td>2021-08-05T00:00:00</td>\n",
       "      <td>Youth and Education</td>\n",
       "      <td>{'Census': 0.36873799562454224, 'Parks': 0.283...</td>\n",
       "      <td>And then you know, we don't I think I'm not go...</td>\n",
       "      <td>{'pier': 4, 'school': 5, 'kids': 13, 'census':...</td>\n",
       "      <td>0:37:50</td>\n",
       "      <td>2270</td>\n",
       "      <td>0.283630</td>\n",
       "      <td>0.003258</td>\n",
       "      <td>0.004372</td>\n",
       "      <td>0.028956</td>\n",
       "      <td>0.005038</td>\n",
       "      <td>0.016468</td>\n",
       "      <td>0.011150</td>\n",
       "      <td>0.075382</td>\n",
       "      <td>0.004810</td>\n",
       "      <td>0.002656</td>\n",
       "      <td>0.002833</td>\n",
       "      <td>0.011485</td>\n",
       "      <td>0.004543</td>\n",
       "      <td>0.072410</td>\n",
       "      <td>0.368738</td>\n",
       "      <td>0.003090</td>\n",
       "      <td>0.007429</td>\n",
       "      <td>0.003294</td>\n",
       "      <td>0.004664</td>\n",
       "      <td>0.004240</td>\n",
       "      <td>0.003832</td>\n",
       "      <td>0.007683</td>\n",
       "      <td>0.002877</td>\n",
       "      <td>0.060050</td>\n",
       "      <td>0.002799</td>\n",
       "      <td>0.002682</td>\n",
       "      <td>0.001634</td>\n",
       "    </tr>\n",
       "  </tbody>\n",
       "</table>\n",
       "</div>"
      ],
      "text/plain": [
       "                                    obj_id    video_url  \\\n",
       "2058  {'$oid': '610a755500409f3bf834a3a6'}  dngxZ4nvtRM   \n",
       "2059  {'$oid': '610a75e500409f3bf834a3a8'}  o-phHhpweNE   \n",
       "2060  {'$oid': '610bcb2c319bd70e4e39d404'}  P1epq8hnxhc   \n",
       "2061  {'$oid': '610bcb94319bd70e4e39d406'}  BwksV_B3JJI   \n",
       "2062  {'$oid': '610c7cae9e0f346bfc1e64b6'}  ZjTfKqtf5a0   \n",
       "\n",
       "                           author         publish_date  \\\n",
       "2058  Manhattan Community Board 1  2021-08-03T00:00:00   \n",
       "2059  Manhattan Community Board 1  2021-08-03T00:00:00   \n",
       "2060  Manhattan Community Board 1  2021-08-04T00:00:00   \n",
       "2061   Brooklyn Community Board 7  2021-08-04T00:00:00   \n",
       "2062  Manhattan Community Board 1  2021-08-05T00:00:00   \n",
       "\n",
       "                                        title  \\\n",
       "2058  Land Use, Zoning & Economic Development   \n",
       "2059                 Landmarks & Preservation   \n",
       "2060                      Licensing & Permits   \n",
       "2061         Transportation Committee Meeting   \n",
       "2062                      Youth and Education   \n",
       "\n",
       "                                                  topic  \\\n",
       "2058  {'Infrastructure': 0.061796315014362335, 'Seni...   \n",
       "2059  {'Safety': 0.5668426156044006, 'Housing': 0.06...   \n",
       "2060  {'Licensing': 0.3489021360874176, 'Quality of ...   \n",
       "2061  {'Transportation': 0.3860085904598236, 'Infras...   \n",
       "2062  {'Census': 0.36873799562454224, 'Parks': 0.283...   \n",
       "\n",
       "                                         fullTranscript  \\\n",
       "2058  Welcome to the March 2020 land use, zoning and...   \n",
       "2059  In the main, exhibit space most of the work wi...   \n",
       "2060  Business for a minute, not yet so to the commi...   \n",
       "2061  Actually, you can make your co-host as well, s...   \n",
       "2062  And then you know, we don't I think I'm not go...   \n",
       "\n",
       "                                             word_count   length  seconds  \\\n",
       "2058  {'design': 8, 'space': 4, 'workshop': 5, 'buil...  1:25:04     5104   \n",
       "2059  {'building': 5, 'space': 6, 'sign': 5, 'street...  1:07:18     4038   \n",
       "2060  {'tables': 10, 'cafe': 9, 'restaurant': 5, 'ho...  1:52:23     6743   \n",
       "2061  {'street': 41, 'truck': 19, 'avenue': 18, 'tra...  1:37:11     5831   \n",
       "2062  {'pier': 4, 'school': 5, 'kids': 13, 'census':...  0:37:50     2270   \n",
       "\n",
       "         Parks   Housing  Land Use  Infrastructure  Transportation  \\\n",
       "2058  0.045914  0.041280  0.044729        0.061796        0.039568   \n",
       "2059  0.009537  0.061181  0.016841        0.026293        0.007849   \n",
       "2060  0.029161  0.013302  0.019226        0.016522        0.015708   \n",
       "2061  0.026333  0.011344  0.047123        0.070630        0.386009   \n",
       "2062  0.283630  0.003258  0.004372        0.028956        0.005038   \n",
       "\n",
       "      Quality of Life    Safety  Waterfront  Technology    Zoning  \\\n",
       "2058         0.039262  0.041079    0.049222    0.038071  0.043673   \n",
       "2059         0.047765  0.566843    0.013764    0.008692  0.008414   \n",
       "2060         0.071194  0.041244    0.030502    0.019864  0.025603   \n",
       "2061         0.067881  0.042146    0.020450    0.024307  0.022833   \n",
       "2062         0.016468  0.011150    0.075382    0.004810  0.002656   \n",
       "\n",
       "      Commercial Development    Equity  Arts and Culture     Youth    Census  \\\n",
       "2058                0.036188  0.040330          0.039233  0.048046  0.027192   \n",
       "2059                0.036526  0.012365          0.041751  0.013767  0.006058   \n",
       "2060                0.026338  0.044275          0.020947  0.036984  0.041070   \n",
       "2061                0.016072  0.043127          0.008197  0.026501  0.020633   \n",
       "2062                0.002833  0.011485          0.004543  0.072410  0.368738   \n",
       "\n",
       "       Seniors  Employment    Health  Licensing  Utilities  Human Services  \\\n",
       "2058  0.056422    0.039916  0.039297   0.031418   0.033453        0.021665   \n",
       "2059  0.011357    0.029886  0.012163   0.025517   0.013788        0.003797   \n",
       "2060  0.031636    0.045766  0.034821   0.348902   0.017671        0.010788   \n",
       "2061  0.018363    0.030260  0.021319   0.017726   0.019709        0.005683   \n",
       "2062  0.003090    0.007429  0.003294   0.004664   0.004240        0.003832   \n",
       "\n",
       "        Budget  Libraries  Education  Sanitation    Police  Elections  \n",
       "2058  0.017706   0.026341   0.027865    0.024352  0.036923   0.009059  \n",
       "2059  0.007291   0.003867   0.003475    0.003465  0.005798   0.001950  \n",
       "2060  0.020219   0.010306   0.010597    0.006926  0.004249   0.006179  \n",
       "2061  0.012857   0.006987   0.007613    0.015458  0.005716   0.004722  \n",
       "2062  0.007683   0.002877   0.060050    0.002799  0.002682   0.001634  "
      ]
     },
     "execution_count": 193,
     "metadata": {},
     "output_type": "execute_result"
    }
   ],
   "source": [
    "df.head()"
   ]
  },
  {
   "cell_type": "code",
   "execution_count": 194,
   "id": "closing-magazine",
   "metadata": {},
   "outputs": [
    {
     "data": {
      "text/plain": [
       "Index(['obj_id', 'video_url', 'author', 'publish_date', 'title', 'topic',\n",
       "       'fullTranscript', 'word_count', 'length', 'seconds', 'Parks', 'Housing',\n",
       "       'Land Use', 'Infrastructure', 'Transportation', 'Quality of Life',\n",
       "       'Safety', 'Waterfront', 'Technology', 'Zoning',\n",
       "       'Commercial Development', 'Equity', 'Arts and Culture', 'Youth',\n",
       "       'Census', 'Seniors', 'Employment', 'Health', 'Licensing', 'Utilities',\n",
       "       'Human Services', 'Budget', 'Libraries', 'Education', 'Sanitation',\n",
       "       'Police', 'Elections'],\n",
       "      dtype='object')"
      ]
     },
     "execution_count": 194,
     "metadata": {},
     "output_type": "execute_result"
    }
   ],
   "source": [
    "df.columns"
   ]
  },
  {
   "cell_type": "code",
   "execution_count": 195,
   "id": "functioning-motel",
   "metadata": {},
   "outputs": [],
   "source": [
    "# Export to csv\n",
    "df[['obj_id', 'video_url', 'author', 'publish_date', 'title', 'topic',\n",
    "        'word_count', 'length', 'seconds', 'Parks', 'Housing',\n",
    "       'Land Use', 'Infrastructure', 'Transportation', 'Quality of Life',\n",
    "       'Safety', 'Waterfront', 'Technology', 'Zoning',\n",
    "       'Commercial Development', 'Equity', 'Arts and Culture', 'Youth',\n",
    "       'Census', 'Seniors', 'Employment', 'Health', 'Licensing', 'Utilities',\n",
    "       'Human Services', 'Budget', 'Libraries', 'Education', 'Sanitation',\n",
    "       'Police', 'Elections']].to_csv('odw_topics_archive.csv',index=False)"
   ]
  },
  {
   "cell_type": "markdown",
   "id": "distinguished-developer",
   "metadata": {},
   "source": [
    "#### Remove any topic if below threshold, how to define threshold?\n",
    "\n",
    "Any below .05 for simplicty sake fill with NA. \n",
    "\n",
    "With more dev, we could define threholds based on distributions."
   ]
  },
  {
   "cell_type": "code",
   "execution_count": 233,
   "id": "temporal-spine",
   "metadata": {
    "scrolled": true
   },
   "outputs": [
    {
     "data": {
      "image/png": "[encoded data removed]",
      "text/plain": [
       "<Figure size 720x360 with 1 Axes>"
      ]
     },
     "metadata": {
      "needs_background": "light"
     },
     "output_type": "display_data"
    },
    {
     "data": {
      "image/png": "[encoded data removed]",
      "text/plain": [
       "<Figure size 720x360 with 1 Axes>"
      ]
     },
     "metadata": {
      "needs_background": "light"
     },
     "output_type": "display_data"
    },
    {
     "data": {
      "image/png": "[encoded data removed]",
      "text/plain": [
       "<Figure size 720x360 with 1 Axes>"
      ]
     },
     "metadata": {
      "needs_background": "light"
     },
     "output_type": "display_data"
    },
    {
     "data": {
      "image/png": "[encoded data removed]",
      "text/plain": [
       "<Figure size 720x360 with 1 Axes>"
      ]
     },
     "metadata": {
      "needs_background": "light"
     },
     "output_type": "display_data"
    },
    {
     "data": {
      "image/png": "[encoded data removed]",
      "text/plain": [
       "<Figure size 720x360 with 1 Axes>"
      ]
     },
     "metadata": {
      "needs_background": "light"
     },
     "output_type": "display_data"
    },
    {
     "data": {
      "image/png": "[encoded data removed]",
      "text/plain": [
       "<Figure size 720x360 with 1 Axes>"
      ]
     },
     "metadata": {
      "needs_background": "light"
     },
     "output_type": "display_data"
    },
    {
     "data": {
      "image/png": "[encoded data removed]",
      "text/plain": [
       "<Figure size 720x360 with 1 Axes>"
      ]
     },
     "metadata": {
      "needs_background": "light"
     },
     "output_type": "display_data"
    },
    {
     "data": {
      "image/png": "[encoded data removed]",
      "text/plain": [
       "<Figure size 720x360 with 1 Axes>"
      ]
     },
     "metadata": {
      "needs_background": "light"
     },
     "output_type": "display_data"
    },
    {
     "data": {
      "image/png": "[encoded data removed]",
      "text/plain": [
       "<Figure size 720x360 with 1 Axes>"
      ]
     },
     "metadata": {
      "needs_background": "light"
     },
     "output_type": "display_data"
    },
    {
     "data": {
      "image/png": "[encoded data removed]",
      "text/plain": [
       "<Figure size 720x360 with 1 Axes>"
      ]
     },
     "metadata": {
      "needs_background": "light"
     },
     "output_type": "display_data"
    },
    {
     "data": {
      "image/png": "[encoded data removed]",
      "text/plain": [
       "<Figure size 720x360 with 1 Axes>"
      ]
     },
     "metadata": {
      "needs_background": "light"
     },
     "output_type": "display_data"
    },
    {
     "data": {
      "image/png": "[encoded data removed]",
      "text/plain": [
       "<Figure size 720x360 with 1 Axes>"
      ]
     },
     "metadata": {
      "needs_background": "light"
     },
     "output_type": "display_data"
    },
    {
     "data": {
      "image/png": "[encoded data removed]",
      "text/plain": [
       "<Figure size 720x360 with 1 Axes>"
      ]
     },
     "metadata": {
      "needs_background": "light"
     },
     "output_type": "display_data"
    },
    {
     "data": {
      "image/png": "[encoded data removed]",
      "text/plain": [
       "<Figure size 720x360 with 1 Axes>"
      ]
     },
     "metadata": {
      "needs_background": "light"
     },
     "output_type": "display_data"
    },
    {
     "data": {
      "image/png": "[encoded data removed]",
      "text/plain": [
       "<Figure size 720x360 with 1 Axes>"
      ]
     },
     "metadata": {
      "needs_background": "light"
     },
     "output_type": "display_data"
    },
    {
     "data": {
      "image/png": "[encoded data removed]",
      "text/plain": [
       "<Figure size 720x360 with 1 Axes>"
      ]
     },
     "metadata": {
      "needs_background": "light"
     },
     "output_type": "display_data"
    },
    {
     "data": {
      "image/png": "[encoded data removed]",
      "text/plain": [
       "<Figure size 720x360 with 1 Axes>"
      ]
     },
     "metadata": {
      "needs_background": "light"
     },
     "output_type": "display_data"
    },
    {
     "data": {
      "image/png": "[encoded data removed]",
      "text/plain": [
       "<Figure size 720x360 with 1 Axes>"
      ]
     },
     "metadata": {
      "needs_background": "light"
     },
     "output_type": "display_data"
    },
    {
     "data": {
      "image/png": "[encoded data removed]",
      "text/plain": [
       "<Figure size 720x360 with 1 Axes>"
      ]
     },
     "metadata": {
      "needs_background": "light"
     },
     "output_type": "display_data"
    },
    {
     "data": {
      "image/png": "[encoded data removed]",
      "text/plain": [
       "<Figure size 720x360 with 1 Axes>"
      ]
     },
     "metadata": {
      "needs_background": "light"
     },
     "output_type": "display_data"
    },
    {
     "data": {
      "image/png": "[encoded data removed]",
      "text/plain": [
       "<Figure size 720x360 with 1 Axes>"
      ]
     },
     "metadata": {
      "needs_background": "light"
     },
     "output_type": "display_data"
    },
    {
     "data": {
      "image/png": "[encoded data removed]",
      "text/plain": [
       "<Figure size 720x360 with 1 Axes>"
      ]
     },
     "metadata": {
      "needs_background": "light"
     },
     "output_type": "display_data"
    },
    {
     "data": {
      "image/png": "[encoded data removed]",
      "text/plain": [
       "<Figure size 720x360 with 1 Axes>"
      ]
     },
     "metadata": {
      "needs_background": "light"
     },
     "output_type": "display_data"
    },
    {
     "data": {
      "image/png": "[encoded data removed]",
      "text/plain": [
       "<Figure size 720x360 with 1 Axes>"
      ]
     },
     "metadata": {
      "needs_background": "light"
     },
     "output_type": "display_data"
    },
    {
     "data": {
      "image/png": "[encoded data removed]",
      "text/plain": [
       "<Figure size 720x360 with 1 Axes>"
      ]
     },
     "metadata": {
      "needs_background": "light"
     },
     "output_type": "display_data"
    },
    {
     "data": {
      "image/png": "[encoded data removed]",
      "text/plain": [
       "<Figure size 720x360 with 1 Axes>"
      ]
     },
     "metadata": {
      "needs_background": "light"
     },
     "output_type": "display_data"
    },
    {
     "data": {
      "image/png": "[encoded data removed]",
      "text/plain": [
       "<Figure size 720x360 with 1 Axes>"
      ]
     },
     "metadata": {
      "needs_background": "light"
     },
     "output_type": "display_data"
    }
   ],
   "source": [
    "# Distributions\n",
    "for i in topics_tax:\n",
    "    plt.figure(figsize=(10, 5))\n",
    "    df[i].hist()\n",
    "    plt.title(i)\n",
    "    plt.show()"
   ]
  },
  {
   "cell_type": "markdown",
   "id": "leading-visibility",
   "metadata": {},
   "source": [
    "We see from distributions that most topics in dictionaries do not have any relevance to the candidate topic. We see majority are below .05"
   ]
  },
  {
   "cell_type": "code",
   "execution_count": null,
   "id": "actual-arkansas",
   "metadata": {},
   "outputs": [],
   "source": [
    "# fill with nan if the value is below .05"
   ]
  },
  {
   "cell_type": "code",
   "execution_count": 235,
   "id": "minute-supervision",
   "metadata": {},
   "outputs": [],
   "source": [
    "for i in topics_tax:\n",
    "    df[i] = df[i].apply(lambda x: np.nan if x < .05 else x)"
   ]
  },
  {
   "cell_type": "code",
   "execution_count": null,
   "id": "civil-airline",
   "metadata": {},
   "outputs": [],
   "source": [
    "df[topics_tax] = df[topics_tax].mask(df[topics_tax] < df.quantile())"
   ]
  },
  {
   "cell_type": "markdown",
   "id": "conscious-rings",
   "metadata": {},
   "source": [
    "### EDA"
   ]
  },
  {
   "cell_type": "code",
   "execution_count": 197,
   "id": "blocked-noise",
   "metadata": {},
   "outputs": [
    {
     "data": {
      "text/html": [
       "<div>\n",
       "<style scoped>\n",
       "    .dataframe tbody tr th:only-of-type {\n",
       "        vertical-align: middle;\n",
       "    }\n",
       "\n",
       "    .dataframe tbody tr th {\n",
       "        vertical-align: top;\n",
       "    }\n",
       "\n",
       "    .dataframe thead th {\n",
       "        text-align: right;\n",
       "    }\n",
       "</style>\n",
       "<table border=\"1\" class=\"dataframe\">\n",
       "  <thead>\n",
       "    <tr style=\"text-align: right;\">\n",
       "      <th></th>\n",
       "      <th>Parks</th>\n",
       "      <th>Housing</th>\n",
       "      <th>Land Use</th>\n",
       "      <th>Infrastructure</th>\n",
       "      <th>Transportation</th>\n",
       "      <th>Quality of Life</th>\n",
       "      <th>Safety</th>\n",
       "      <th>Waterfront</th>\n",
       "      <th>Technology</th>\n",
       "      <th>Zoning</th>\n",
       "      <th>Commercial Development</th>\n",
       "      <th>Equity</th>\n",
       "      <th>Arts and Culture</th>\n",
       "      <th>Youth</th>\n",
       "      <th>Census</th>\n",
       "      <th>Seniors</th>\n",
       "      <th>Employment</th>\n",
       "      <th>Health</th>\n",
       "      <th>Licensing</th>\n",
       "      <th>Utilities</th>\n",
       "      <th>Human Services</th>\n",
       "      <th>Budget</th>\n",
       "      <th>Libraries</th>\n",
       "      <th>Education</th>\n",
       "      <th>Sanitation</th>\n",
       "      <th>Police</th>\n",
       "      <th>Elections</th>\n",
       "    </tr>\n",
       "  </thead>\n",
       "  <tbody>\n",
       "    <tr>\n",
       "      <th>count</th>\n",
       "      <td>973.000000</td>\n",
       "      <td>973.000000</td>\n",
       "      <td>973.000000</td>\n",
       "      <td>973.000000</td>\n",
       "      <td>973.000000</td>\n",
       "      <td>973.000000</td>\n",
       "      <td>973.000000</td>\n",
       "      <td>973.000000</td>\n",
       "      <td>973.000000</td>\n",
       "      <td>973.000000</td>\n",
       "      <td>973.000000</td>\n",
       "      <td>973.000000</td>\n",
       "      <td>973.000000</td>\n",
       "      <td>973.000000</td>\n",
       "      <td>973.000000</td>\n",
       "      <td>973.000000</td>\n",
       "      <td>973.000000</td>\n",
       "      <td>973.000000</td>\n",
       "      <td>973.000000</td>\n",
       "      <td>973.000000</td>\n",
       "      <td>973.000000</td>\n",
       "      <td>973.000000</td>\n",
       "      <td>973.000000</td>\n",
       "      <td>973.000000</td>\n",
       "      <td>973.000000</td>\n",
       "      <td>973.000000</td>\n",
       "      <td>973.000000</td>\n",
       "    </tr>\n",
       "    <tr>\n",
       "      <th>mean</th>\n",
       "      <td>0.089620</td>\n",
       "      <td>0.086402</td>\n",
       "      <td>0.030400</td>\n",
       "      <td>0.048077</td>\n",
       "      <td>0.063643</td>\n",
       "      <td>0.044907</td>\n",
       "      <td>0.074393</td>\n",
       "      <td>0.028237</td>\n",
       "      <td>0.016613</td>\n",
       "      <td>0.046438</td>\n",
       "      <td>0.017174</td>\n",
       "      <td>0.029612</td>\n",
       "      <td>0.017064</td>\n",
       "      <td>0.064507</td>\n",
       "      <td>0.018268</td>\n",
       "      <td>0.025513</td>\n",
       "      <td>0.026725</td>\n",
       "      <td>0.070061</td>\n",
       "      <td>0.041858</td>\n",
       "      <td>0.011808</td>\n",
       "      <td>0.011150</td>\n",
       "      <td>0.045444</td>\n",
       "      <td>0.009030</td>\n",
       "      <td>0.039617</td>\n",
       "      <td>0.013744</td>\n",
       "      <td>0.017686</td>\n",
       "      <td>0.012008</td>\n",
       "    </tr>\n",
       "    <tr>\n",
       "      <th>std</th>\n",
       "      <td>0.177109</td>\n",
       "      <td>0.169905</td>\n",
       "      <td>0.055378</td>\n",
       "      <td>0.083024</td>\n",
       "      <td>0.126695</td>\n",
       "      <td>0.049487</td>\n",
       "      <td>0.114354</td>\n",
       "      <td>0.067494</td>\n",
       "      <td>0.030976</td>\n",
       "      <td>0.125859</td>\n",
       "      <td>0.025576</td>\n",
       "      <td>0.036421</td>\n",
       "      <td>0.048370</td>\n",
       "      <td>0.134269</td>\n",
       "      <td>0.022703</td>\n",
       "      <td>0.068546</td>\n",
       "      <td>0.046039</td>\n",
       "      <td>0.151226</td>\n",
       "      <td>0.103404</td>\n",
       "      <td>0.016330</td>\n",
       "      <td>0.019998</td>\n",
       "      <td>0.104285</td>\n",
       "      <td>0.028295</td>\n",
       "      <td>0.105878</td>\n",
       "      <td>0.057507</td>\n",
       "      <td>0.062329</td>\n",
       "      <td>0.067875</td>\n",
       "    </tr>\n",
       "    <tr>\n",
       "      <th>min</th>\n",
       "      <td>0.002045</td>\n",
       "      <td>0.000553</td>\n",
       "      <td>0.001342</td>\n",
       "      <td>0.001429</td>\n",
       "      <td>0.000743</td>\n",
       "      <td>0.002893</td>\n",
       "      <td>0.001035</td>\n",
       "      <td>0.001675</td>\n",
       "      <td>0.000981</td>\n",
       "      <td>0.000549</td>\n",
       "      <td>0.000557</td>\n",
       "      <td>0.002746</td>\n",
       "      <td>0.000817</td>\n",
       "      <td>0.001560</td>\n",
       "      <td>0.001549</td>\n",
       "      <td>0.001002</td>\n",
       "      <td>0.001765</td>\n",
       "      <td>0.001401</td>\n",
       "      <td>0.001396</td>\n",
       "      <td>0.000520</td>\n",
       "      <td>0.000660</td>\n",
       "      <td>0.001043</td>\n",
       "      <td>0.000574</td>\n",
       "      <td>0.000607</td>\n",
       "      <td>0.000413</td>\n",
       "      <td>0.000451</td>\n",
       "      <td>0.000431</td>\n",
       "    </tr>\n",
       "    <tr>\n",
       "      <th>25%</th>\n",
       "      <td>0.011121</td>\n",
       "      <td>0.005341</td>\n",
       "      <td>0.005831</td>\n",
       "      <td>0.009407</td>\n",
       "      <td>0.006189</td>\n",
       "      <td>0.018244</td>\n",
       "      <td>0.017483</td>\n",
       "      <td>0.008798</td>\n",
       "      <td>0.005045</td>\n",
       "      <td>0.004167</td>\n",
       "      <td>0.003483</td>\n",
       "      <td>0.013711</td>\n",
       "      <td>0.003890</td>\n",
       "      <td>0.010605</td>\n",
       "      <td>0.007662</td>\n",
       "      <td>0.007325</td>\n",
       "      <td>0.008110</td>\n",
       "      <td>0.007314</td>\n",
       "      <td>0.005706</td>\n",
       "      <td>0.003982</td>\n",
       "      <td>0.003548</td>\n",
       "      <td>0.005871</td>\n",
       "      <td>0.002920</td>\n",
       "      <td>0.003556</td>\n",
       "      <td>0.002842</td>\n",
       "      <td>0.002336</td>\n",
       "      <td>0.001810</td>\n",
       "    </tr>\n",
       "    <tr>\n",
       "      <th>50%</th>\n",
       "      <td>0.019980</td>\n",
       "      <td>0.010864</td>\n",
       "      <td>0.011203</td>\n",
       "      <td>0.020204</td>\n",
       "      <td>0.012147</td>\n",
       "      <td>0.032318</td>\n",
       "      <td>0.035183</td>\n",
       "      <td>0.014259</td>\n",
       "      <td>0.009026</td>\n",
       "      <td>0.008154</td>\n",
       "      <td>0.007699</td>\n",
       "      <td>0.022293</td>\n",
       "      <td>0.006865</td>\n",
       "      <td>0.019903</td>\n",
       "      <td>0.013306</td>\n",
       "      <td>0.012925</td>\n",
       "      <td>0.015143</td>\n",
       "      <td>0.014910</td>\n",
       "      <td>0.009861</td>\n",
       "      <td>0.007301</td>\n",
       "      <td>0.006027</td>\n",
       "      <td>0.012233</td>\n",
       "      <td>0.004786</td>\n",
       "      <td>0.006075</td>\n",
       "      <td>0.004515</td>\n",
       "      <td>0.004160</td>\n",
       "      <td>0.002940</td>\n",
       "    </tr>\n",
       "    <tr>\n",
       "      <th>75%</th>\n",
       "      <td>0.041238</td>\n",
       "      <td>0.036334</td>\n",
       "      <td>0.024651</td>\n",
       "      <td>0.045141</td>\n",
       "      <td>0.042188</td>\n",
       "      <td>0.054716</td>\n",
       "      <td>0.066798</td>\n",
       "      <td>0.024665</td>\n",
       "      <td>0.017258</td>\n",
       "      <td>0.017349</td>\n",
       "      <td>0.020115</td>\n",
       "      <td>0.036479</td>\n",
       "      <td>0.013370</td>\n",
       "      <td>0.038380</td>\n",
       "      <td>0.023187</td>\n",
       "      <td>0.022854</td>\n",
       "      <td>0.028404</td>\n",
       "      <td>0.031659</td>\n",
       "      <td>0.018480</td>\n",
       "      <td>0.013301</td>\n",
       "      <td>0.010247</td>\n",
       "      <td>0.023952</td>\n",
       "      <td>0.008380</td>\n",
       "      <td>0.014349</td>\n",
       "      <td>0.007604</td>\n",
       "      <td>0.008550</td>\n",
       "      <td>0.005019</td>\n",
       "    </tr>\n",
       "    <tr>\n",
       "      <th>max</th>\n",
       "      <td>0.894679</td>\n",
       "      <td>0.882250</td>\n",
       "      <td>0.419741</td>\n",
       "      <td>0.817187</td>\n",
       "      <td>0.783226</td>\n",
       "      <td>0.786366</td>\n",
       "      <td>0.825786</td>\n",
       "      <td>0.818726</td>\n",
       "      <td>0.430871</td>\n",
       "      <td>0.770211</td>\n",
       "      <td>0.249742</td>\n",
       "      <td>0.637357</td>\n",
       "      <td>0.727166</td>\n",
       "      <td>0.869375</td>\n",
       "      <td>0.420207</td>\n",
       "      <td>0.896411</td>\n",
       "      <td>0.607982</td>\n",
       "      <td>0.846435</td>\n",
       "      <td>0.634281</td>\n",
       "      <td>0.204258</td>\n",
       "      <td>0.273357</td>\n",
       "      <td>0.804109</td>\n",
       "      <td>0.632141</td>\n",
       "      <td>0.809642</td>\n",
       "      <td>0.764341</td>\n",
       "      <td>0.623553</td>\n",
       "      <td>0.838653</td>\n",
       "    </tr>\n",
       "  </tbody>\n",
       "</table>\n",
       "</div>"
      ],
      "text/plain": [
       "            Parks     Housing    Land Use  Infrastructure  Transportation  \\\n",
       "count  973.000000  973.000000  973.000000      973.000000      973.000000   \n",
       "mean     0.089620    0.086402    0.030400        0.048077        0.063643   \n",
       "std      0.177109    0.169905    0.055378        0.083024        0.126695   \n",
       "min      0.002045    0.000553    0.001342        0.001429        0.000743   \n",
       "25%      0.011121    0.005341    0.005831        0.009407        0.006189   \n",
       "50%      0.019980    0.010864    0.011203        0.020204        0.012147   \n",
       "75%      0.041238    0.036334    0.024651        0.045141        0.042188   \n",
       "max      0.894679    0.882250    0.419741        0.817187        0.783226   \n",
       "\n",
       "       Quality of Life      Safety  Waterfront  Technology      Zoning  \\\n",
       "count       973.000000  973.000000  973.000000  973.000000  973.000000   \n",
       "mean          0.044907    0.074393    0.028237    0.016613    0.046438   \n",
       "std           0.049487    0.114354    0.067494    0.030976    0.125859   \n",
       "min           0.002893    0.001035    0.001675    0.000981    0.000549   \n",
       "25%           0.018244    0.017483    0.008798    0.005045    0.004167   \n",
       "50%           0.032318    0.035183    0.014259    0.009026    0.008154   \n",
       "75%           0.054716    0.066798    0.024665    0.017258    0.017349   \n",
       "max           0.786366    0.825786    0.818726    0.430871    0.770211   \n",
       "\n",
       "       Commercial Development      Equity  Arts and Culture       Youth  \\\n",
       "count              973.000000  973.000000        973.000000  973.000000   \n",
       "mean                 0.017174    0.029612          0.017064    0.064507   \n",
       "std                  0.025576    0.036421          0.048370    0.134269   \n",
       "min                  0.000557    0.002746          0.000817    0.001560   \n",
       "25%                  0.003483    0.013711          0.003890    0.010605   \n",
       "50%                  0.007699    0.022293          0.006865    0.019903   \n",
       "75%                  0.020115    0.036479          0.013370    0.038380   \n",
       "max                  0.249742    0.637357          0.727166    0.869375   \n",
       "\n",
       "           Census     Seniors  Employment      Health   Licensing   Utilities  \\\n",
       "count  973.000000  973.000000  973.000000  973.000000  973.000000  973.000000   \n",
       "mean     0.018268    0.025513    0.026725    0.070061    0.041858    0.011808   \n",
       "std      0.022703    0.068546    0.046039    0.151226    0.103404    0.016330   \n",
       "min      0.001549    0.001002    0.001765    0.001401    0.001396    0.000520   \n",
       "25%      0.007662    0.007325    0.008110    0.007314    0.005706    0.003982   \n",
       "50%      0.013306    0.012925    0.015143    0.014910    0.009861    0.007301   \n",
       "75%      0.023187    0.022854    0.028404    0.031659    0.018480    0.013301   \n",
       "max      0.420207    0.896411    0.607982    0.846435    0.634281    0.204258   \n",
       "\n",
       "       Human Services      Budget   Libraries   Education  Sanitation  \\\n",
       "count      973.000000  973.000000  973.000000  973.000000  973.000000   \n",
       "mean         0.011150    0.045444    0.009030    0.039617    0.013744   \n",
       "std          0.019998    0.104285    0.028295    0.105878    0.057507   \n",
       "min          0.000660    0.001043    0.000574    0.000607    0.000413   \n",
       "25%          0.003548    0.005871    0.002920    0.003556    0.002842   \n",
       "50%          0.006027    0.012233    0.004786    0.006075    0.004515   \n",
       "75%          0.010247    0.023952    0.008380    0.014349    0.007604   \n",
       "max          0.273357    0.804109    0.632141    0.809642    0.764341   \n",
       "\n",
       "           Police   Elections  \n",
       "count  973.000000  973.000000  \n",
       "mean     0.017686    0.012008  \n",
       "std      0.062329    0.067875  \n",
       "min      0.000451    0.000431  \n",
       "25%      0.002336    0.001810  \n",
       "50%      0.004160    0.002940  \n",
       "75%      0.008550    0.005019  \n",
       "max      0.623553    0.838653  "
      ]
     },
     "execution_count": 197,
     "metadata": {},
     "output_type": "execute_result"
    }
   ],
   "source": [
    "# before removing below threshold\n",
    "df[topics_tax].describe()"
   ]
  },
  {
   "cell_type": "code",
   "execution_count": 240,
   "id": "equipped-adaptation",
   "metadata": {},
   "outputs": [
    {
     "data": {
      "text/html": [
       "<div>\n",
       "<style scoped>\n",
       "    .dataframe tbody tr th:only-of-type {\n",
       "        vertical-align: middle;\n",
       "    }\n",
       "\n",
       "    .dataframe tbody tr th {\n",
       "        vertical-align: top;\n",
       "    }\n",
       "\n",
       "    .dataframe thead th {\n",
       "        text-align: right;\n",
       "    }\n",
       "</style>\n",
       "<table border=\"1\" class=\"dataframe\">\n",
       "  <thead>\n",
       "    <tr style=\"text-align: right;\">\n",
       "      <th></th>\n",
       "      <th>Parks</th>\n",
       "      <th>Housing</th>\n",
       "      <th>Land Use</th>\n",
       "      <th>Infrastructure</th>\n",
       "      <th>Transportation</th>\n",
       "      <th>Quality of Life</th>\n",
       "      <th>Safety</th>\n",
       "      <th>Waterfront</th>\n",
       "      <th>Technology</th>\n",
       "      <th>Zoning</th>\n",
       "      <th>Commercial Development</th>\n",
       "      <th>Equity</th>\n",
       "      <th>Arts and Culture</th>\n",
       "      <th>Youth</th>\n",
       "      <th>Census</th>\n",
       "      <th>Seniors</th>\n",
       "      <th>Employment</th>\n",
       "      <th>Health</th>\n",
       "      <th>Licensing</th>\n",
       "      <th>Utilities</th>\n",
       "      <th>Human Services</th>\n",
       "      <th>Budget</th>\n",
       "      <th>Libraries</th>\n",
       "      <th>Education</th>\n",
       "      <th>Sanitation</th>\n",
       "      <th>Police</th>\n",
       "      <th>Elections</th>\n",
       "    </tr>\n",
       "  </thead>\n",
       "  <tbody>\n",
       "    <tr>\n",
       "      <th>count</th>\n",
       "      <td>219.000000</td>\n",
       "      <td>217.000000</td>\n",
       "      <td>135.000000</td>\n",
       "      <td>219.000000</td>\n",
       "      <td>222.000000</td>\n",
       "      <td>285.000000</td>\n",
       "      <td>352.000000</td>\n",
       "      <td>71.000000</td>\n",
       "      <td>49.000000</td>\n",
       "      <td>99.000000</td>\n",
       "      <td>77.000000</td>\n",
       "      <td>96.000000</td>\n",
       "      <td>40.000000</td>\n",
       "      <td>183.000000</td>\n",
       "      <td>37.000000</td>\n",
       "      <td>45.000000</td>\n",
       "      <td>99.000000</td>\n",
       "      <td>168.000000</td>\n",
       "      <td>94.000000</td>\n",
       "      <td>31.000000</td>\n",
       "      <td>34.000000</td>\n",
       "      <td>142.000000</td>\n",
       "      <td>13.000000</td>\n",
       "      <td>137.000000</td>\n",
       "      <td>32.000000</td>\n",
       "      <td>49.000000</td>\n",
       "      <td>22.000000</td>\n",
       "    </tr>\n",
       "    <tr>\n",
       "      <th>mean</th>\n",
       "      <td>0.336552</td>\n",
       "      <td>0.349405</td>\n",
       "      <td>0.139167</td>\n",
       "      <td>0.152828</td>\n",
       "      <td>0.236988</td>\n",
       "      <td>0.092302</td>\n",
       "      <td>0.164351</td>\n",
       "      <td>0.179554</td>\n",
       "      <td>0.109166</td>\n",
       "      <td>0.365072</td>\n",
       "      <td>0.084950</td>\n",
       "      <td>0.092726</td>\n",
       "      <td>0.187246</td>\n",
       "      <td>0.262795</td>\n",
       "      <td>0.083667</td>\n",
       "      <td>0.229853</td>\n",
       "      <td>0.115749</td>\n",
       "      <td>0.333844</td>\n",
       "      <td>0.327241</td>\n",
       "      <td>0.083750</td>\n",
       "      <td>0.097838</td>\n",
       "      <td>0.237741</td>\n",
       "      <td>0.199999</td>\n",
       "      <td>0.233207</td>\n",
       "      <td>0.248336</td>\n",
       "      <td>0.237400</td>\n",
       "      <td>0.355391</td>\n",
       "    </tr>\n",
       "    <tr>\n",
       "      <th>std</th>\n",
       "      <td>0.245810</td>\n",
       "      <td>0.200398</td>\n",
       "      <td>0.088077</td>\n",
       "      <td>0.126552</td>\n",
       "      <td>0.176442</td>\n",
       "      <td>0.069591</td>\n",
       "      <td>0.152384</td>\n",
       "      <td>0.191638</td>\n",
       "      <td>0.092068</td>\n",
       "      <td>0.205335</td>\n",
       "      <td>0.042454</td>\n",
       "      <td>0.088377</td>\n",
       "      <td>0.159403</td>\n",
       "      <td>0.216832</td>\n",
       "      <td>0.080283</td>\n",
       "      <td>0.237610</td>\n",
       "      <td>0.104722</td>\n",
       "      <td>0.219009</td>\n",
       "      <td>0.141351</td>\n",
       "      <td>0.035482</td>\n",
       "      <td>0.046819</td>\n",
       "      <td>0.175577</td>\n",
       "      <td>0.149183</td>\n",
       "      <td>0.189207</td>\n",
       "      <td>0.210522</td>\n",
       "      <td>0.161321</td>\n",
       "      <td>0.293437</td>\n",
       "    </tr>\n",
       "    <tr>\n",
       "      <th>min</th>\n",
       "      <td>0.050263</td>\n",
       "      <td>0.050185</td>\n",
       "      <td>0.050545</td>\n",
       "      <td>0.050236</td>\n",
       "      <td>0.050191</td>\n",
       "      <td>0.050124</td>\n",
       "      <td>0.050355</td>\n",
       "      <td>0.050323</td>\n",
       "      <td>0.050012</td>\n",
       "      <td>0.050859</td>\n",
       "      <td>0.050313</td>\n",
       "      <td>0.050038</td>\n",
       "      <td>0.050916</td>\n",
       "      <td>0.050091</td>\n",
       "      <td>0.051102</td>\n",
       "      <td>0.050330</td>\n",
       "      <td>0.050087</td>\n",
       "      <td>0.050340</td>\n",
       "      <td>0.050108</td>\n",
       "      <td>0.050098</td>\n",
       "      <td>0.051735</td>\n",
       "      <td>0.050857</td>\n",
       "      <td>0.082243</td>\n",
       "      <td>0.052107</td>\n",
       "      <td>0.050175</td>\n",
       "      <td>0.053467</td>\n",
       "      <td>0.051728</td>\n",
       "    </tr>\n",
       "    <tr>\n",
       "      <th>25%</th>\n",
       "      <td>0.104177</td>\n",
       "      <td>0.173578</td>\n",
       "      <td>0.068519</td>\n",
       "      <td>0.069022</td>\n",
       "      <td>0.085727</td>\n",
       "      <td>0.059439</td>\n",
       "      <td>0.063824</td>\n",
       "      <td>0.058075</td>\n",
       "      <td>0.057080</td>\n",
       "      <td>0.200337</td>\n",
       "      <td>0.059768</td>\n",
       "      <td>0.056509</td>\n",
       "      <td>0.083427</td>\n",
       "      <td>0.072213</td>\n",
       "      <td>0.052779</td>\n",
       "      <td>0.055445</td>\n",
       "      <td>0.058312</td>\n",
       "      <td>0.133706</td>\n",
       "      <td>0.253698</td>\n",
       "      <td>0.058362</td>\n",
       "      <td>0.065031</td>\n",
       "      <td>0.092283</td>\n",
       "      <td>0.109810</td>\n",
       "      <td>0.087762</td>\n",
       "      <td>0.079967</td>\n",
       "      <td>0.110889</td>\n",
       "      <td>0.090576</td>\n",
       "    </tr>\n",
       "    <tr>\n",
       "      <th>50%</th>\n",
       "      <td>0.275333</td>\n",
       "      <td>0.338803</td>\n",
       "      <td>0.106143</td>\n",
       "      <td>0.097661</td>\n",
       "      <td>0.181788</td>\n",
       "      <td>0.071745</td>\n",
       "      <td>0.092468</td>\n",
       "      <td>0.076196</td>\n",
       "      <td>0.072687</td>\n",
       "      <td>0.382155</td>\n",
       "      <td>0.070472</td>\n",
       "      <td>0.063067</td>\n",
       "      <td>0.123319</td>\n",
       "      <td>0.175793</td>\n",
       "      <td>0.057701</td>\n",
       "      <td>0.073509</td>\n",
       "      <td>0.075011</td>\n",
       "      <td>0.320094</td>\n",
       "      <td>0.329904</td>\n",
       "      <td>0.076242</td>\n",
       "      <td>0.083317</td>\n",
       "      <td>0.196183</td>\n",
       "      <td>0.149268</td>\n",
       "      <td>0.150766</td>\n",
       "      <td>0.178229</td>\n",
       "      <td>0.195014</td>\n",
       "      <td>0.223570</td>\n",
       "    </tr>\n",
       "    <tr>\n",
       "      <th>75%</th>\n",
       "      <td>0.533301</td>\n",
       "      <td>0.497320</td>\n",
       "      <td>0.188423</td>\n",
       "      <td>0.187862</td>\n",
       "      <td>0.358550</td>\n",
       "      <td>0.096456</td>\n",
       "      <td>0.211128</td>\n",
       "      <td>0.227990</td>\n",
       "      <td>0.112329</td>\n",
       "      <td>0.524502</td>\n",
       "      <td>0.091185</td>\n",
       "      <td>0.078151</td>\n",
       "      <td>0.262522</td>\n",
       "      <td>0.404569</td>\n",
       "      <td>0.067408</td>\n",
       "      <td>0.352980</td>\n",
       "      <td>0.115269</td>\n",
       "      <td>0.516107</td>\n",
       "      <td>0.421497</td>\n",
       "      <td>0.094648</td>\n",
       "      <td>0.111477</td>\n",
       "      <td>0.303226</td>\n",
       "      <td>0.225324</td>\n",
       "      <td>0.310238</td>\n",
       "      <td>0.342966</td>\n",
       "      <td>0.307513</td>\n",
       "      <td>0.628878</td>\n",
       "    </tr>\n",
       "    <tr>\n",
       "      <th>max</th>\n",
       "      <td>0.894679</td>\n",
       "      <td>0.882250</td>\n",
       "      <td>0.419741</td>\n",
       "      <td>0.817187</td>\n",
       "      <td>0.783226</td>\n",
       "      <td>0.786366</td>\n",
       "      <td>0.825786</td>\n",
       "      <td>0.818726</td>\n",
       "      <td>0.430871</td>\n",
       "      <td>0.770211</td>\n",
       "      <td>0.249742</td>\n",
       "      <td>0.637357</td>\n",
       "      <td>0.727166</td>\n",
       "      <td>0.869375</td>\n",
       "      <td>0.420207</td>\n",
       "      <td>0.896411</td>\n",
       "      <td>0.607982</td>\n",
       "      <td>0.846435</td>\n",
       "      <td>0.634281</td>\n",
       "      <td>0.204258</td>\n",
       "      <td>0.273357</td>\n",
       "      <td>0.804109</td>\n",
       "      <td>0.632141</td>\n",
       "      <td>0.809642</td>\n",
       "      <td>0.764341</td>\n",
       "      <td>0.623553</td>\n",
       "      <td>0.838653</td>\n",
       "    </tr>\n",
       "  </tbody>\n",
       "</table>\n",
       "</div>"
      ],
      "text/plain": [
       "            Parks     Housing    Land Use  Infrastructure  Transportation  \\\n",
       "count  219.000000  217.000000  135.000000      219.000000      222.000000   \n",
       "mean     0.336552    0.349405    0.139167        0.152828        0.236988   \n",
       "std      0.245810    0.200398    0.088077        0.126552        0.176442   \n",
       "min      0.050263    0.050185    0.050545        0.050236        0.050191   \n",
       "25%      0.104177    0.173578    0.068519        0.069022        0.085727   \n",
       "50%      0.275333    0.338803    0.106143        0.097661        0.181788   \n",
       "75%      0.533301    0.497320    0.188423        0.187862        0.358550   \n",
       "max      0.894679    0.882250    0.419741        0.817187        0.783226   \n",
       "\n",
       "       Quality of Life      Safety  Waterfront  Technology     Zoning  \\\n",
       "count       285.000000  352.000000   71.000000   49.000000  99.000000   \n",
       "mean          0.092302    0.164351    0.179554    0.109166   0.365072   \n",
       "std           0.069591    0.152384    0.191638    0.092068   0.205335   \n",
       "min           0.050124    0.050355    0.050323    0.050012   0.050859   \n",
       "25%           0.059439    0.063824    0.058075    0.057080   0.200337   \n",
       "50%           0.071745    0.092468    0.076196    0.072687   0.382155   \n",
       "75%           0.096456    0.211128    0.227990    0.112329   0.524502   \n",
       "max           0.786366    0.825786    0.818726    0.430871   0.770211   \n",
       "\n",
       "       Commercial Development     Equity  Arts and Culture       Youth  \\\n",
       "count               77.000000  96.000000         40.000000  183.000000   \n",
       "mean                 0.084950   0.092726          0.187246    0.262795   \n",
       "std                  0.042454   0.088377          0.159403    0.216832   \n",
       "min                  0.050313   0.050038          0.050916    0.050091   \n",
       "25%                  0.059768   0.056509          0.083427    0.072213   \n",
       "50%                  0.070472   0.063067          0.123319    0.175793   \n",
       "75%                  0.091185   0.078151          0.262522    0.404569   \n",
       "max                  0.249742   0.637357          0.727166    0.869375   \n",
       "\n",
       "          Census    Seniors  Employment      Health  Licensing  Utilities  \\\n",
       "count  37.000000  45.000000   99.000000  168.000000  94.000000  31.000000   \n",
       "mean    0.083667   0.229853    0.115749    0.333844   0.327241   0.083750   \n",
       "std     0.080283   0.237610    0.104722    0.219009   0.141351   0.035482   \n",
       "min     0.051102   0.050330    0.050087    0.050340   0.050108   0.050098   \n",
       "25%     0.052779   0.055445    0.058312    0.133706   0.253698   0.058362   \n",
       "50%     0.057701   0.073509    0.075011    0.320094   0.329904   0.076242   \n",
       "75%     0.067408   0.352980    0.115269    0.516107   0.421497   0.094648   \n",
       "max     0.420207   0.896411    0.607982    0.846435   0.634281   0.204258   \n",
       "\n",
       "       Human Services      Budget  Libraries   Education  Sanitation  \\\n",
       "count       34.000000  142.000000  13.000000  137.000000   32.000000   \n",
       "mean         0.097838    0.237741   0.199999    0.233207    0.248336   \n",
       "std          0.046819    0.175577   0.149183    0.189207    0.210522   \n",
       "min          0.051735    0.050857   0.082243    0.052107    0.050175   \n",
       "25%          0.065031    0.092283   0.109810    0.087762    0.079967   \n",
       "50%          0.083317    0.196183   0.149268    0.150766    0.178229   \n",
       "75%          0.111477    0.303226   0.225324    0.310238    0.342966   \n",
       "max          0.273357    0.804109   0.632141    0.809642    0.764341   \n",
       "\n",
       "          Police  Elections  \n",
       "count  49.000000  22.000000  \n",
       "mean    0.237400   0.355391  \n",
       "std     0.161321   0.293437  \n",
       "min     0.053467   0.051728  \n",
       "25%     0.110889   0.090576  \n",
       "50%     0.195014   0.223570  \n",
       "75%     0.307513   0.628878  \n",
       "max     0.623553   0.838653  "
      ]
     },
     "execution_count": 240,
     "metadata": {},
     "output_type": "execute_result"
    }
   ],
   "source": [
    "# after\n",
    "df[topics_tax].describe()"
   ]
  },
  {
   "cell_type": "code",
   "execution_count": 201,
   "id": "endless-prediction",
   "metadata": {},
   "outputs": [
    {
     "data": {
      "text/html": [
       "<div>\n",
       "<style scoped>\n",
       "    .dataframe tbody tr th:only-of-type {\n",
       "        vertical-align: middle;\n",
       "    }\n",
       "\n",
       "    .dataframe tbody tr th {\n",
       "        vertical-align: top;\n",
       "    }\n",
       "\n",
       "    .dataframe thead th {\n",
       "        text-align: right;\n",
       "    }\n",
       "</style>\n",
       "<table border=\"1\" class=\"dataframe\">\n",
       "  <thead>\n",
       "    <tr style=\"text-align: right;\">\n",
       "      <th></th>\n",
       "      <th>Parks</th>\n",
       "      <th>Housing</th>\n",
       "      <th>Land Use</th>\n",
       "      <th>Infrastructure</th>\n",
       "      <th>Transportation</th>\n",
       "      <th>Quality of Life</th>\n",
       "      <th>Safety</th>\n",
       "      <th>Waterfront</th>\n",
       "      <th>Technology</th>\n",
       "      <th>Zoning</th>\n",
       "      <th>Commercial Development</th>\n",
       "      <th>Equity</th>\n",
       "      <th>Arts and Culture</th>\n",
       "      <th>Youth</th>\n",
       "      <th>Census</th>\n",
       "      <th>Seniors</th>\n",
       "      <th>Employment</th>\n",
       "      <th>Health</th>\n",
       "      <th>Licensing</th>\n",
       "      <th>Utilities</th>\n",
       "      <th>Human Services</th>\n",
       "      <th>Budget</th>\n",
       "      <th>Libraries</th>\n",
       "      <th>Education</th>\n",
       "      <th>Sanitation</th>\n",
       "      <th>Police</th>\n",
       "      <th>Elections</th>\n",
       "    </tr>\n",
       "  </thead>\n",
       "  <tbody>\n",
       "    <tr>\n",
       "      <th>Parks</th>\n",
       "      <td>1.000000</td>\n",
       "      <td>-0.162871</td>\n",
       "      <td>-0.070352</td>\n",
       "      <td>0.000404</td>\n",
       "      <td>-0.116132</td>\n",
       "      <td>-0.014066</td>\n",
       "      <td>-0.130350</td>\n",
       "      <td>0.019718</td>\n",
       "      <td>-0.078497</td>\n",
       "      <td>-0.132982</td>\n",
       "      <td>-0.144897</td>\n",
       "      <td>-0.122681</td>\n",
       "      <td>-0.011128</td>\n",
       "      <td>-0.104359</td>\n",
       "      <td>-0.121114</td>\n",
       "      <td>-0.083572</td>\n",
       "      <td>-0.100349</td>\n",
       "      <td>-0.135661</td>\n",
       "      <td>-0.105465</td>\n",
       "      <td>-0.079342</td>\n",
       "      <td>-0.142336</td>\n",
       "      <td>-0.037583</td>\n",
       "      <td>-0.048007</td>\n",
       "      <td>-0.118504</td>\n",
       "      <td>-0.050557</td>\n",
       "      <td>-0.037750</td>\n",
       "      <td>-0.043461</td>\n",
       "    </tr>\n",
       "    <tr>\n",
       "      <th>Housing</th>\n",
       "      <td>-0.162871</td>\n",
       "      <td>1.000000</td>\n",
       "      <td>0.095220</td>\n",
       "      <td>-0.106765</td>\n",
       "      <td>-0.186010</td>\n",
       "      <td>-0.135744</td>\n",
       "      <td>-0.103050</td>\n",
       "      <td>-0.080640</td>\n",
       "      <td>-0.117660</td>\n",
       "      <td>-0.020906</td>\n",
       "      <td>-0.070064</td>\n",
       "      <td>-0.082219</td>\n",
       "      <td>-0.089072</td>\n",
       "      <td>-0.132829</td>\n",
       "      <td>-0.065147</td>\n",
       "      <td>-0.032812</td>\n",
       "      <td>-0.025706</td>\n",
       "      <td>-0.067683</td>\n",
       "      <td>-0.136296</td>\n",
       "      <td>-0.103198</td>\n",
       "      <td>0.172933</td>\n",
       "      <td>-0.003432</td>\n",
       "      <td>-0.068534</td>\n",
       "      <td>-0.128291</td>\n",
       "      <td>-0.063155</td>\n",
       "      <td>-0.092747</td>\n",
       "      <td>-0.058797</td>\n",
       "    </tr>\n",
       "    <tr>\n",
       "      <th>Land Use</th>\n",
       "      <td>-0.070352</td>\n",
       "      <td>0.095220</td>\n",
       "      <td>1.000000</td>\n",
       "      <td>-0.015517</td>\n",
       "      <td>-0.040107</td>\n",
       "      <td>-0.035406</td>\n",
       "      <td>-0.114637</td>\n",
       "      <td>-0.008899</td>\n",
       "      <td>-0.025679</td>\n",
       "      <td>0.316860</td>\n",
       "      <td>0.224720</td>\n",
       "      <td>-0.035232</td>\n",
       "      <td>-0.024785</td>\n",
       "      <td>-0.135011</td>\n",
       "      <td>0.033686</td>\n",
       "      <td>-0.048553</td>\n",
       "      <td>0.005657</td>\n",
       "      <td>-0.134591</td>\n",
       "      <td>-0.060936</td>\n",
       "      <td>-0.019649</td>\n",
       "      <td>-0.090353</td>\n",
       "      <td>-0.079136</td>\n",
       "      <td>-0.021703</td>\n",
       "      <td>-0.104692</td>\n",
       "      <td>-0.055145</td>\n",
       "      <td>-0.070974</td>\n",
       "      <td>-0.042054</td>\n",
       "    </tr>\n",
       "    <tr>\n",
       "      <th>Infrastructure</th>\n",
       "      <td>0.000404</td>\n",
       "      <td>-0.106765</td>\n",
       "      <td>-0.015517</td>\n",
       "      <td>1.000000</td>\n",
       "      <td>0.138759</td>\n",
       "      <td>-0.000103</td>\n",
       "      <td>-0.002027</td>\n",
       "      <td>0.014574</td>\n",
       "      <td>0.122568</td>\n",
       "      <td>-0.092066</td>\n",
       "      <td>0.033443</td>\n",
       "      <td>-0.034571</td>\n",
       "      <td>-0.039992</td>\n",
       "      <td>-0.131515</td>\n",
       "      <td>-0.011817</td>\n",
       "      <td>-0.051898</td>\n",
       "      <td>-0.049180</td>\n",
       "      <td>-0.122920</td>\n",
       "      <td>-0.083361</td>\n",
       "      <td>0.227995</td>\n",
       "      <td>-0.107200</td>\n",
       "      <td>-0.062853</td>\n",
       "      <td>-0.042576</td>\n",
       "      <td>-0.099151</td>\n",
       "      <td>0.043533</td>\n",
       "      <td>-0.060376</td>\n",
       "      <td>-0.050088</td>\n",
       "    </tr>\n",
       "    <tr>\n",
       "      <th>Transportation</th>\n",
       "      <td>-0.116132</td>\n",
       "      <td>-0.186010</td>\n",
       "      <td>-0.040107</td>\n",
       "      <td>0.138759</td>\n",
       "      <td>1.000000</td>\n",
       "      <td>0.072077</td>\n",
       "      <td>0.052706</td>\n",
       "      <td>-0.059444</td>\n",
       "      <td>0.065574</td>\n",
       "      <td>-0.078614</td>\n",
       "      <td>-0.074230</td>\n",
       "      <td>-0.043429</td>\n",
       "      <td>-0.047694</td>\n",
       "      <td>-0.102970</td>\n",
       "      <td>-0.049072</td>\n",
       "      <td>-0.044585</td>\n",
       "      <td>-0.062935</td>\n",
       "      <td>-0.136054</td>\n",
       "      <td>-0.071422</td>\n",
       "      <td>0.004959</td>\n",
       "      <td>-0.109080</td>\n",
       "      <td>-0.079033</td>\n",
       "      <td>-0.034701</td>\n",
       "      <td>-0.090747</td>\n",
       "      <td>-0.030549</td>\n",
       "      <td>-0.016438</td>\n",
       "      <td>-0.046945</td>\n",
       "    </tr>\n",
       "    <tr>\n",
       "      <th>Quality of Life</th>\n",
       "      <td>-0.014066</td>\n",
       "      <td>-0.135744</td>\n",
       "      <td>-0.035406</td>\n",
       "      <td>-0.000103</td>\n",
       "      <td>0.072077</td>\n",
       "      <td>1.000000</td>\n",
       "      <td>-0.018555</td>\n",
       "      <td>0.006771</td>\n",
       "      <td>0.054013</td>\n",
       "      <td>-0.087737</td>\n",
       "      <td>0.168906</td>\n",
       "      <td>0.113254</td>\n",
       "      <td>0.097326</td>\n",
       "      <td>-0.091594</td>\n",
       "      <td>0.143453</td>\n",
       "      <td>0.007353</td>\n",
       "      <td>0.080715</td>\n",
       "      <td>-0.055732</td>\n",
       "      <td>0.121457</td>\n",
       "      <td>0.057225</td>\n",
       "      <td>-0.012187</td>\n",
       "      <td>-0.122470</td>\n",
       "      <td>-0.016500</td>\n",
       "      <td>-0.121108</td>\n",
       "      <td>-0.032637</td>\n",
       "      <td>-0.041055</td>\n",
       "      <td>-0.040009</td>\n",
       "    </tr>\n",
       "    <tr>\n",
       "      <th>Safety</th>\n",
       "      <td>-0.130350</td>\n",
       "      <td>-0.103050</td>\n",
       "      <td>-0.114637</td>\n",
       "      <td>-0.002027</td>\n",
       "      <td>0.052706</td>\n",
       "      <td>-0.018555</td>\n",
       "      <td>1.000000</td>\n",
       "      <td>-0.076522</td>\n",
       "      <td>-0.001291</td>\n",
       "      <td>-0.122510</td>\n",
       "      <td>-0.052833</td>\n",
       "      <td>-0.037448</td>\n",
       "      <td>-0.076582</td>\n",
       "      <td>-0.081307</td>\n",
       "      <td>-0.052041</td>\n",
       "      <td>-0.068806</td>\n",
       "      <td>-0.055590</td>\n",
       "      <td>-0.068651</td>\n",
       "      <td>-0.054699</td>\n",
       "      <td>0.005129</td>\n",
       "      <td>-0.066052</td>\n",
       "      <td>-0.088035</td>\n",
       "      <td>0.003451</td>\n",
       "      <td>-0.067593</td>\n",
       "      <td>0.027575</td>\n",
       "      <td>0.137334</td>\n",
       "      <td>-0.047377</td>\n",
       "    </tr>\n",
       "    <tr>\n",
       "      <th>Waterfront</th>\n",
       "      <td>0.019718</td>\n",
       "      <td>-0.080640</td>\n",
       "      <td>-0.008899</td>\n",
       "      <td>0.014574</td>\n",
       "      <td>-0.059444</td>\n",
       "      <td>0.006771</td>\n",
       "      <td>-0.076522</td>\n",
       "      <td>1.000000</td>\n",
       "      <td>0.062769</td>\n",
       "      <td>-0.043421</td>\n",
       "      <td>0.024944</td>\n",
       "      <td>-0.002388</td>\n",
       "      <td>0.019485</td>\n",
       "      <td>-0.080636</td>\n",
       "      <td>0.019940</td>\n",
       "      <td>-0.022845</td>\n",
       "      <td>-0.002811</td>\n",
       "      <td>-0.074117</td>\n",
       "      <td>-0.016521</td>\n",
       "      <td>0.036488</td>\n",
       "      <td>-0.038610</td>\n",
       "      <td>-0.035318</td>\n",
       "      <td>-0.007987</td>\n",
       "      <td>-0.064666</td>\n",
       "      <td>-0.005069</td>\n",
       "      <td>-0.040411</td>\n",
       "      <td>-0.019145</td>\n",
       "    </tr>\n",
       "    <tr>\n",
       "      <th>Technology</th>\n",
       "      <td>-0.078497</td>\n",
       "      <td>-0.117660</td>\n",
       "      <td>-0.025679</td>\n",
       "      <td>0.122568</td>\n",
       "      <td>0.065574</td>\n",
       "      <td>0.054013</td>\n",
       "      <td>-0.001291</td>\n",
       "      <td>0.062769</td>\n",
       "      <td>1.000000</td>\n",
       "      <td>-0.017042</td>\n",
       "      <td>0.120040</td>\n",
       "      <td>0.076774</td>\n",
       "      <td>0.009646</td>\n",
       "      <td>-0.084547</td>\n",
       "      <td>0.043082</td>\n",
       "      <td>0.041909</td>\n",
       "      <td>0.123982</td>\n",
       "      <td>-0.081894</td>\n",
       "      <td>-0.020568</td>\n",
       "      <td>0.234155</td>\n",
       "      <td>-0.018950</td>\n",
       "      <td>-0.059745</td>\n",
       "      <td>0.029816</td>\n",
       "      <td>-0.047158</td>\n",
       "      <td>-0.008112</td>\n",
       "      <td>-0.029816</td>\n",
       "      <td>0.006925</td>\n",
       "    </tr>\n",
       "    <tr>\n",
       "      <th>Zoning</th>\n",
       "      <td>-0.132982</td>\n",
       "      <td>-0.020906</td>\n",
       "      <td>0.316860</td>\n",
       "      <td>-0.092066</td>\n",
       "      <td>-0.078614</td>\n",
       "      <td>-0.087737</td>\n",
       "      <td>-0.122510</td>\n",
       "      <td>-0.043421</td>\n",
       "      <td>-0.017042</td>\n",
       "      <td>1.000000</td>\n",
       "      <td>0.112401</td>\n",
       "      <td>-0.076423</td>\n",
       "      <td>-0.042567</td>\n",
       "      <td>-0.109682</td>\n",
       "      <td>-0.013070</td>\n",
       "      <td>-0.048756</td>\n",
       "      <td>-0.062829</td>\n",
       "      <td>-0.096961</td>\n",
       "      <td>-0.056876</td>\n",
       "      <td>-0.086302</td>\n",
       "      <td>-0.093813</td>\n",
       "      <td>-0.094543</td>\n",
       "      <td>-0.021083</td>\n",
       "      <td>-0.090818</td>\n",
       "      <td>-0.045414</td>\n",
       "      <td>-0.070342</td>\n",
       "      <td>-0.040733</td>\n",
       "    </tr>\n",
       "    <tr>\n",
       "      <th>Commercial Development</th>\n",
       "      <td>-0.144897</td>\n",
       "      <td>-0.070064</td>\n",
       "      <td>0.224720</td>\n",
       "      <td>0.033443</td>\n",
       "      <td>-0.074230</td>\n",
       "      <td>0.168906</td>\n",
       "      <td>-0.052833</td>\n",
       "      <td>0.024944</td>\n",
       "      <td>0.120040</td>\n",
       "      <td>0.112401</td>\n",
       "      <td>1.000000</td>\n",
       "      <td>0.136072</td>\n",
       "      <td>0.033813</td>\n",
       "      <td>-0.123583</td>\n",
       "      <td>0.256388</td>\n",
       "      <td>0.010279</td>\n",
       "      <td>0.206541</td>\n",
       "      <td>-0.110790</td>\n",
       "      <td>0.195892</td>\n",
       "      <td>0.094932</td>\n",
       "      <td>-0.056780</td>\n",
       "      <td>-0.053858</td>\n",
       "      <td>0.031965</td>\n",
       "      <td>-0.132229</td>\n",
       "      <td>-0.039097</td>\n",
       "      <td>-0.041894</td>\n",
       "      <td>-0.030469</td>\n",
       "    </tr>\n",
       "    <tr>\n",
       "      <th>Equity</th>\n",
       "      <td>-0.122681</td>\n",
       "      <td>-0.082219</td>\n",
       "      <td>-0.035232</td>\n",
       "      <td>-0.034571</td>\n",
       "      <td>-0.043429</td>\n",
       "      <td>0.113254</td>\n",
       "      <td>-0.037448</td>\n",
       "      <td>-0.002388</td>\n",
       "      <td>0.076774</td>\n",
       "      <td>-0.076423</td>\n",
       "      <td>0.136072</td>\n",
       "      <td>1.000000</td>\n",
       "      <td>0.122139</td>\n",
       "      <td>-0.074755</td>\n",
       "      <td>0.184491</td>\n",
       "      <td>0.031749</td>\n",
       "      <td>0.156833</td>\n",
       "      <td>-0.027707</td>\n",
       "      <td>0.110649</td>\n",
       "      <td>0.118987</td>\n",
       "      <td>0.038687</td>\n",
       "      <td>-0.049895</td>\n",
       "      <td>0.021044</td>\n",
       "      <td>-0.000291</td>\n",
       "      <td>-0.021288</td>\n",
       "      <td>-0.008357</td>\n",
       "      <td>-0.012395</td>\n",
       "    </tr>\n",
       "    <tr>\n",
       "      <th>Arts and Culture</th>\n",
       "      <td>-0.011128</td>\n",
       "      <td>-0.089072</td>\n",
       "      <td>-0.024785</td>\n",
       "      <td>-0.039992</td>\n",
       "      <td>-0.047694</td>\n",
       "      <td>0.097326</td>\n",
       "      <td>-0.076582</td>\n",
       "      <td>0.019485</td>\n",
       "      <td>0.009646</td>\n",
       "      <td>-0.042567</td>\n",
       "      <td>0.033813</td>\n",
       "      <td>0.122139</td>\n",
       "      <td>1.000000</td>\n",
       "      <td>-0.005611</td>\n",
       "      <td>0.033144</td>\n",
       "      <td>0.000349</td>\n",
       "      <td>0.026766</td>\n",
       "      <td>-0.069910</td>\n",
       "      <td>0.008933</td>\n",
       "      <td>-0.005015</td>\n",
       "      <td>-0.031884</td>\n",
       "      <td>-0.028925</td>\n",
       "      <td>0.005731</td>\n",
       "      <td>-0.008850</td>\n",
       "      <td>-0.032504</td>\n",
       "      <td>-0.032875</td>\n",
       "      <td>-0.019690</td>\n",
       "    </tr>\n",
       "    <tr>\n",
       "      <th>Youth</th>\n",
       "      <td>-0.104359</td>\n",
       "      <td>-0.132829</td>\n",
       "      <td>-0.135011</td>\n",
       "      <td>-0.131515</td>\n",
       "      <td>-0.102970</td>\n",
       "      <td>-0.091594</td>\n",
       "      <td>-0.081307</td>\n",
       "      <td>-0.080636</td>\n",
       "      <td>-0.084547</td>\n",
       "      <td>-0.109682</td>\n",
       "      <td>-0.123583</td>\n",
       "      <td>-0.074755</td>\n",
       "      <td>-0.005611</td>\n",
       "      <td>1.000000</td>\n",
       "      <td>-0.064049</td>\n",
       "      <td>-0.054997</td>\n",
       "      <td>-0.053425</td>\n",
       "      <td>-0.081839</td>\n",
       "      <td>-0.086245</td>\n",
       "      <td>-0.126215</td>\n",
       "      <td>-0.004665</td>\n",
       "      <td>-0.093899</td>\n",
       "      <td>0.014504</td>\n",
       "      <td>0.262065</td>\n",
       "      <td>-0.053625</td>\n",
       "      <td>-0.023555</td>\n",
       "      <td>-0.038403</td>\n",
       "    </tr>\n",
       "    <tr>\n",
       "      <th>Census</th>\n",
       "      <td>-0.121114</td>\n",
       "      <td>-0.065147</td>\n",
       "      <td>0.033686</td>\n",
       "      <td>-0.011817</td>\n",
       "      <td>-0.049072</td>\n",
       "      <td>0.143453</td>\n",
       "      <td>-0.052041</td>\n",
       "      <td>0.019940</td>\n",
       "      <td>0.043082</td>\n",
       "      <td>-0.013070</td>\n",
       "      <td>0.256388</td>\n",
       "      <td>0.184491</td>\n",
       "      <td>0.033144</td>\n",
       "      <td>-0.064049</td>\n",
       "      <td>1.000000</td>\n",
       "      <td>0.014812</td>\n",
       "      <td>0.124307</td>\n",
       "      <td>-0.009437</td>\n",
       "      <td>0.110357</td>\n",
       "      <td>0.095449</td>\n",
       "      <td>0.031044</td>\n",
       "      <td>-0.056970</td>\n",
       "      <td>0.008660</td>\n",
       "      <td>-0.027907</td>\n",
       "      <td>-0.025836</td>\n",
       "      <td>-0.027788</td>\n",
       "      <td>-0.005129</td>\n",
       "    </tr>\n",
       "    <tr>\n",
       "      <th>Seniors</th>\n",
       "      <td>-0.083572</td>\n",
       "      <td>-0.032812</td>\n",
       "      <td>-0.048553</td>\n",
       "      <td>-0.051898</td>\n",
       "      <td>-0.044585</td>\n",
       "      <td>0.007353</td>\n",
       "      <td>-0.068806</td>\n",
       "      <td>-0.022845</td>\n",
       "      <td>0.041909</td>\n",
       "      <td>-0.048756</td>\n",
       "      <td>0.010279</td>\n",
       "      <td>0.031749</td>\n",
       "      <td>0.000349</td>\n",
       "      <td>-0.054997</td>\n",
       "      <td>0.014812</td>\n",
       "      <td>1.000000</td>\n",
       "      <td>-0.015106</td>\n",
       "      <td>-0.019350</td>\n",
       "      <td>-0.012403</td>\n",
       "      <td>0.011561</td>\n",
       "      <td>0.033188</td>\n",
       "      <td>-0.029588</td>\n",
       "      <td>0.052020</td>\n",
       "      <td>-0.056309</td>\n",
       "      <td>-0.027938</td>\n",
       "      <td>-0.035779</td>\n",
       "      <td>-0.008295</td>\n",
       "    </tr>\n",
       "    <tr>\n",
       "      <th>Employment</th>\n",
       "      <td>-0.100349</td>\n",
       "      <td>-0.025706</td>\n",
       "      <td>0.005657</td>\n",
       "      <td>-0.049180</td>\n",
       "      <td>-0.062935</td>\n",
       "      <td>0.080715</td>\n",
       "      <td>-0.055590</td>\n",
       "      <td>-0.002811</td>\n",
       "      <td>0.123982</td>\n",
       "      <td>-0.062829</td>\n",
       "      <td>0.206541</td>\n",
       "      <td>0.156833</td>\n",
       "      <td>0.026766</td>\n",
       "      <td>-0.053425</td>\n",
       "      <td>0.124307</td>\n",
       "      <td>-0.015106</td>\n",
       "      <td>1.000000</td>\n",
       "      <td>-0.076448</td>\n",
       "      <td>0.063704</td>\n",
       "      <td>0.064766</td>\n",
       "      <td>-0.006322</td>\n",
       "      <td>-0.009930</td>\n",
       "      <td>0.062926</td>\n",
       "      <td>-0.054378</td>\n",
       "      <td>-0.033690</td>\n",
       "      <td>-0.016578</td>\n",
       "      <td>-0.006083</td>\n",
       "    </tr>\n",
       "    <tr>\n",
       "      <th>Health</th>\n",
       "      <td>-0.135661</td>\n",
       "      <td>-0.067683</td>\n",
       "      <td>-0.134591</td>\n",
       "      <td>-0.122920</td>\n",
       "      <td>-0.136054</td>\n",
       "      <td>-0.055732</td>\n",
       "      <td>-0.068651</td>\n",
       "      <td>-0.074117</td>\n",
       "      <td>-0.081894</td>\n",
       "      <td>-0.096961</td>\n",
       "      <td>-0.110790</td>\n",
       "      <td>-0.027707</td>\n",
       "      <td>-0.069910</td>\n",
       "      <td>-0.081839</td>\n",
       "      <td>-0.009437</td>\n",
       "      <td>-0.019350</td>\n",
       "      <td>-0.076448</td>\n",
       "      <td>1.000000</td>\n",
       "      <td>-0.067420</td>\n",
       "      <td>-0.043700</td>\n",
       "      <td>0.308819</td>\n",
       "      <td>-0.073928</td>\n",
       "      <td>-0.040776</td>\n",
       "      <td>-0.087109</td>\n",
       "      <td>-0.029839</td>\n",
       "      <td>-0.048653</td>\n",
       "      <td>-0.041771</td>\n",
       "    </tr>\n",
       "    <tr>\n",
       "      <th>Licensing</th>\n",
       "      <td>-0.105465</td>\n",
       "      <td>-0.136296</td>\n",
       "      <td>-0.060936</td>\n",
       "      <td>-0.083361</td>\n",
       "      <td>-0.071422</td>\n",
       "      <td>0.121457</td>\n",
       "      <td>-0.054699</td>\n",
       "      <td>-0.016521</td>\n",
       "      <td>-0.020568</td>\n",
       "      <td>-0.056876</td>\n",
       "      <td>0.195892</td>\n",
       "      <td>0.110649</td>\n",
       "      <td>0.008933</td>\n",
       "      <td>-0.086245</td>\n",
       "      <td>0.110357</td>\n",
       "      <td>-0.012403</td>\n",
       "      <td>0.063704</td>\n",
       "      <td>-0.067420</td>\n",
       "      <td>1.000000</td>\n",
       "      <td>0.034733</td>\n",
       "      <td>-0.051502</td>\n",
       "      <td>-0.086822</td>\n",
       "      <td>-0.003636</td>\n",
       "      <td>-0.092489</td>\n",
       "      <td>-0.044684</td>\n",
       "      <td>-0.016951</td>\n",
       "      <td>-0.034099</td>\n",
       "    </tr>\n",
       "    <tr>\n",
       "      <th>Utilities</th>\n",
       "      <td>-0.079342</td>\n",
       "      <td>-0.103198</td>\n",
       "      <td>-0.019649</td>\n",
       "      <td>0.227995</td>\n",
       "      <td>0.004959</td>\n",
       "      <td>0.057225</td>\n",
       "      <td>0.005129</td>\n",
       "      <td>0.036488</td>\n",
       "      <td>0.234155</td>\n",
       "      <td>-0.086302</td>\n",
       "      <td>0.094932</td>\n",
       "      <td>0.118987</td>\n",
       "      <td>-0.005015</td>\n",
       "      <td>-0.126215</td>\n",
       "      <td>0.095449</td>\n",
       "      <td>0.011561</td>\n",
       "      <td>0.064766</td>\n",
       "      <td>-0.043700</td>\n",
       "      <td>0.034733</td>\n",
       "      <td>1.000000</td>\n",
       "      <td>0.033042</td>\n",
       "      <td>0.038329</td>\n",
       "      <td>0.029284</td>\n",
       "      <td>-0.081878</td>\n",
       "      <td>0.071547</td>\n",
       "      <td>0.023803</td>\n",
       "      <td>-0.005855</td>\n",
       "    </tr>\n",
       "    <tr>\n",
       "      <th>Human Services</th>\n",
       "      <td>-0.142336</td>\n",
       "      <td>0.172933</td>\n",
       "      <td>-0.090353</td>\n",
       "      <td>-0.107200</td>\n",
       "      <td>-0.109080</td>\n",
       "      <td>-0.012187</td>\n",
       "      <td>-0.066052</td>\n",
       "      <td>-0.038610</td>\n",
       "      <td>-0.018950</td>\n",
       "      <td>-0.093813</td>\n",
       "      <td>-0.056780</td>\n",
       "      <td>0.038687</td>\n",
       "      <td>-0.031884</td>\n",
       "      <td>-0.004665</td>\n",
       "      <td>0.031044</td>\n",
       "      <td>0.033188</td>\n",
       "      <td>-0.006322</td>\n",
       "      <td>0.308819</td>\n",
       "      <td>-0.051502</td>\n",
       "      <td>0.033042</td>\n",
       "      <td>1.000000</td>\n",
       "      <td>-0.040118</td>\n",
       "      <td>-0.008947</td>\n",
       "      <td>-0.044772</td>\n",
       "      <td>-0.033475</td>\n",
       "      <td>-0.040544</td>\n",
       "      <td>-0.030264</td>\n",
       "    </tr>\n",
       "    <tr>\n",
       "      <th>Budget</th>\n",
       "      <td>-0.037583</td>\n",
       "      <td>-0.003432</td>\n",
       "      <td>-0.079136</td>\n",
       "      <td>-0.062853</td>\n",
       "      <td>-0.079033</td>\n",
       "      <td>-0.122470</td>\n",
       "      <td>-0.088035</td>\n",
       "      <td>-0.035318</td>\n",
       "      <td>-0.059745</td>\n",
       "      <td>-0.094543</td>\n",
       "      <td>-0.053858</td>\n",
       "      <td>-0.049895</td>\n",
       "      <td>-0.028925</td>\n",
       "      <td>-0.093899</td>\n",
       "      <td>-0.056970</td>\n",
       "      <td>-0.029588</td>\n",
       "      <td>-0.009930</td>\n",
       "      <td>-0.073928</td>\n",
       "      <td>-0.086822</td>\n",
       "      <td>0.038329</td>\n",
       "      <td>-0.040118</td>\n",
       "      <td>1.000000</td>\n",
       "      <td>-0.012946</td>\n",
       "      <td>0.005379</td>\n",
       "      <td>-0.020672</td>\n",
       "      <td>-0.042301</td>\n",
       "      <td>-0.003452</td>\n",
       "    </tr>\n",
       "    <tr>\n",
       "      <th>Libraries</th>\n",
       "      <td>-0.048007</td>\n",
       "      <td>-0.068534</td>\n",
       "      <td>-0.021703</td>\n",
       "      <td>-0.042576</td>\n",
       "      <td>-0.034701</td>\n",
       "      <td>-0.016500</td>\n",
       "      <td>0.003451</td>\n",
       "      <td>-0.007987</td>\n",
       "      <td>0.029816</td>\n",
       "      <td>-0.021083</td>\n",
       "      <td>0.031965</td>\n",
       "      <td>0.021044</td>\n",
       "      <td>0.005731</td>\n",
       "      <td>0.014504</td>\n",
       "      <td>0.008660</td>\n",
       "      <td>0.052020</td>\n",
       "      <td>0.062926</td>\n",
       "      <td>-0.040776</td>\n",
       "      <td>-0.003636</td>\n",
       "      <td>0.029284</td>\n",
       "      <td>-0.008947</td>\n",
       "      <td>-0.012946</td>\n",
       "      <td>1.000000</td>\n",
       "      <td>0.006859</td>\n",
       "      <td>-0.002774</td>\n",
       "      <td>-0.015084</td>\n",
       "      <td>0.017297</td>\n",
       "    </tr>\n",
       "    <tr>\n",
       "      <th>Education</th>\n",
       "      <td>-0.118504</td>\n",
       "      <td>-0.128291</td>\n",
       "      <td>-0.104692</td>\n",
       "      <td>-0.099151</td>\n",
       "      <td>-0.090747</td>\n",
       "      <td>-0.121108</td>\n",
       "      <td>-0.067593</td>\n",
       "      <td>-0.064666</td>\n",
       "      <td>-0.047158</td>\n",
       "      <td>-0.090818</td>\n",
       "      <td>-0.132229</td>\n",
       "      <td>-0.000291</td>\n",
       "      <td>-0.008850</td>\n",
       "      <td>0.262065</td>\n",
       "      <td>-0.027907</td>\n",
       "      <td>-0.056309</td>\n",
       "      <td>-0.054378</td>\n",
       "      <td>-0.087109</td>\n",
       "      <td>-0.092489</td>\n",
       "      <td>-0.081878</td>\n",
       "      <td>-0.044772</td>\n",
       "      <td>0.005379</td>\n",
       "      <td>0.006859</td>\n",
       "      <td>1.000000</td>\n",
       "      <td>-0.031666</td>\n",
       "      <td>-0.045828</td>\n",
       "      <td>-0.030433</td>\n",
       "    </tr>\n",
       "    <tr>\n",
       "      <th>Sanitation</th>\n",
       "      <td>-0.050557</td>\n",
       "      <td>-0.063155</td>\n",
       "      <td>-0.055145</td>\n",
       "      <td>0.043533</td>\n",
       "      <td>-0.030549</td>\n",
       "      <td>-0.032637</td>\n",
       "      <td>0.027575</td>\n",
       "      <td>-0.005069</td>\n",
       "      <td>-0.008112</td>\n",
       "      <td>-0.045414</td>\n",
       "      <td>-0.039097</td>\n",
       "      <td>-0.021288</td>\n",
       "      <td>-0.032504</td>\n",
       "      <td>-0.053625</td>\n",
       "      <td>-0.025836</td>\n",
       "      <td>-0.027938</td>\n",
       "      <td>-0.033690</td>\n",
       "      <td>-0.029839</td>\n",
       "      <td>-0.044684</td>\n",
       "      <td>0.071547</td>\n",
       "      <td>-0.033475</td>\n",
       "      <td>-0.020672</td>\n",
       "      <td>-0.002774</td>\n",
       "      <td>-0.031666</td>\n",
       "      <td>1.000000</td>\n",
       "      <td>0.006325</td>\n",
       "      <td>-0.019366</td>\n",
       "    </tr>\n",
       "    <tr>\n",
       "      <th>Police</th>\n",
       "      <td>-0.037750</td>\n",
       "      <td>-0.092747</td>\n",
       "      <td>-0.070974</td>\n",
       "      <td>-0.060376</td>\n",
       "      <td>-0.016438</td>\n",
       "      <td>-0.041055</td>\n",
       "      <td>0.137334</td>\n",
       "      <td>-0.040411</td>\n",
       "      <td>-0.029816</td>\n",
       "      <td>-0.070342</td>\n",
       "      <td>-0.041894</td>\n",
       "      <td>-0.008357</td>\n",
       "      <td>-0.032875</td>\n",
       "      <td>-0.023555</td>\n",
       "      <td>-0.027788</td>\n",
       "      <td>-0.035779</td>\n",
       "      <td>-0.016578</td>\n",
       "      <td>-0.048653</td>\n",
       "      <td>-0.016951</td>\n",
       "      <td>0.023803</td>\n",
       "      <td>-0.040544</td>\n",
       "      <td>-0.042301</td>\n",
       "      <td>-0.015084</td>\n",
       "      <td>-0.045828</td>\n",
       "      <td>0.006325</td>\n",
       "      <td>1.000000</td>\n",
       "      <td>-0.017592</td>\n",
       "    </tr>\n",
       "    <tr>\n",
       "      <th>Elections</th>\n",
       "      <td>-0.043461</td>\n",
       "      <td>-0.058797</td>\n",
       "      <td>-0.042054</td>\n",
       "      <td>-0.050088</td>\n",
       "      <td>-0.046945</td>\n",
       "      <td>-0.040009</td>\n",
       "      <td>-0.047377</td>\n",
       "      <td>-0.019145</td>\n",
       "      <td>0.006925</td>\n",
       "      <td>-0.040733</td>\n",
       "      <td>-0.030469</td>\n",
       "      <td>-0.012395</td>\n",
       "      <td>-0.019690</td>\n",
       "      <td>-0.038403</td>\n",
       "      <td>-0.005129</td>\n",
       "      <td>-0.008295</td>\n",
       "      <td>-0.006083</td>\n",
       "      <td>-0.041771</td>\n",
       "      <td>-0.034099</td>\n",
       "      <td>-0.005855</td>\n",
       "      <td>-0.030264</td>\n",
       "      <td>-0.003452</td>\n",
       "      <td>0.017297</td>\n",
       "      <td>-0.030433</td>\n",
       "      <td>-0.019366</td>\n",
       "      <td>-0.017592</td>\n",
       "      <td>1.000000</td>\n",
       "    </tr>\n",
       "  </tbody>\n",
       "</table>\n",
       "</div>"
      ],
      "text/plain": [
       "                           Parks   Housing  Land Use  Infrastructure  \\\n",
       "Parks                   1.000000 -0.162871 -0.070352        0.000404   \n",
       "Housing                -0.162871  1.000000  0.095220       -0.106765   \n",
       "Land Use               -0.070352  0.095220  1.000000       -0.015517   \n",
       "Infrastructure          0.000404 -0.106765 -0.015517        1.000000   \n",
       "Transportation         -0.116132 -0.186010 -0.040107        0.138759   \n",
       "Quality of Life        -0.014066 -0.135744 -0.035406       -0.000103   \n",
       "Safety                 -0.130350 -0.103050 -0.114637       -0.002027   \n",
       "Waterfront              0.019718 -0.080640 -0.008899        0.014574   \n",
       "Technology             -0.078497 -0.117660 -0.025679        0.122568   \n",
       "Zoning                 -0.132982 -0.020906  0.316860       -0.092066   \n",
       "Commercial Development -0.144897 -0.070064  0.224720        0.033443   \n",
       "Equity                 -0.122681 -0.082219 -0.035232       -0.034571   \n",
       "Arts and Culture       -0.011128 -0.089072 -0.024785       -0.039992   \n",
       "Youth                  -0.104359 -0.132829 -0.135011       -0.131515   \n",
       "Census                 -0.121114 -0.065147  0.033686       -0.011817   \n",
       "Seniors                -0.083572 -0.032812 -0.048553       -0.051898   \n",
       "Employment             -0.100349 -0.025706  0.005657       -0.049180   \n",
       "Health                 -0.135661 -0.067683 -0.134591       -0.122920   \n",
       "Licensing              -0.105465 -0.136296 -0.060936       -0.083361   \n",
       "Utilities              -0.079342 -0.103198 -0.019649        0.227995   \n",
       "Human Services         -0.142336  0.172933 -0.090353       -0.107200   \n",
       "Budget                 -0.037583 -0.003432 -0.079136       -0.062853   \n",
       "Libraries              -0.048007 -0.068534 -0.021703       -0.042576   \n",
       "Education              -0.118504 -0.128291 -0.104692       -0.099151   \n",
       "Sanitation             -0.050557 -0.063155 -0.055145        0.043533   \n",
       "Police                 -0.037750 -0.092747 -0.070974       -0.060376   \n",
       "Elections              -0.043461 -0.058797 -0.042054       -0.050088   \n",
       "\n",
       "                        Transportation  Quality of Life    Safety  Waterfront  \\\n",
       "Parks                        -0.116132        -0.014066 -0.130350    0.019718   \n",
       "Housing                      -0.186010        -0.135744 -0.103050   -0.080640   \n",
       "Land Use                     -0.040107        -0.035406 -0.114637   -0.008899   \n",
       "Infrastructure                0.138759        -0.000103 -0.002027    0.014574   \n",
       "Transportation                1.000000         0.072077  0.052706   -0.059444   \n",
       "Quality of Life               0.072077         1.000000 -0.018555    0.006771   \n",
       "Safety                        0.052706        -0.018555  1.000000   -0.076522   \n",
       "Waterfront                   -0.059444         0.006771 -0.076522    1.000000   \n",
       "Technology                    0.065574         0.054013 -0.001291    0.062769   \n",
       "Zoning                       -0.078614        -0.087737 -0.122510   -0.043421   \n",
       "Commercial Development       -0.074230         0.168906 -0.052833    0.024944   \n",
       "Equity                       -0.043429         0.113254 -0.037448   -0.002388   \n",
       "Arts and Culture             -0.047694         0.097326 -0.076582    0.019485   \n",
       "Youth                        -0.102970        -0.091594 -0.081307   -0.080636   \n",
       "Census                       -0.049072         0.143453 -0.052041    0.019940   \n",
       "Seniors                      -0.044585         0.007353 -0.068806   -0.022845   \n",
       "Employment                   -0.062935         0.080715 -0.055590   -0.002811   \n",
       "Health                       -0.136054        -0.055732 -0.068651   -0.074117   \n",
       "Licensing                    -0.071422         0.121457 -0.054699   -0.016521   \n",
       "Utilities                     0.004959         0.057225  0.005129    0.036488   \n",
       "Human Services               -0.109080        -0.012187 -0.066052   -0.038610   \n",
       "Budget                       -0.079033        -0.122470 -0.088035   -0.035318   \n",
       "Libraries                    -0.034701        -0.016500  0.003451   -0.007987   \n",
       "Education                    -0.090747        -0.121108 -0.067593   -0.064666   \n",
       "Sanitation                   -0.030549        -0.032637  0.027575   -0.005069   \n",
       "Police                       -0.016438        -0.041055  0.137334   -0.040411   \n",
       "Elections                    -0.046945        -0.040009 -0.047377   -0.019145   \n",
       "\n",
       "                        Technology    Zoning  Commercial Development  \\\n",
       "Parks                    -0.078497 -0.132982               -0.144897   \n",
       "Housing                  -0.117660 -0.020906               -0.070064   \n",
       "Land Use                 -0.025679  0.316860                0.224720   \n",
       "Infrastructure            0.122568 -0.092066                0.033443   \n",
       "Transportation            0.065574 -0.078614               -0.074230   \n",
       "Quality of Life           0.054013 -0.087737                0.168906   \n",
       "Safety                   -0.001291 -0.122510               -0.052833   \n",
       "Waterfront                0.062769 -0.043421                0.024944   \n",
       "Technology                1.000000 -0.017042                0.120040   \n",
       "Zoning                   -0.017042  1.000000                0.112401   \n",
       "Commercial Development    0.120040  0.112401                1.000000   \n",
       "Equity                    0.076774 -0.076423                0.136072   \n",
       "Arts and Culture          0.009646 -0.042567                0.033813   \n",
       "Youth                    -0.084547 -0.109682               -0.123583   \n",
       "Census                    0.043082 -0.013070                0.256388   \n",
       "Seniors                   0.041909 -0.048756                0.010279   \n",
       "Employment                0.123982 -0.062829                0.206541   \n",
       "Health                   -0.081894 -0.096961               -0.110790   \n",
       "Licensing                -0.020568 -0.056876                0.195892   \n",
       "Utilities                 0.234155 -0.086302                0.094932   \n",
       "Human Services           -0.018950 -0.093813               -0.056780   \n",
       "Budget                   -0.059745 -0.094543               -0.053858   \n",
       "Libraries                 0.029816 -0.021083                0.031965   \n",
       "Education                -0.047158 -0.090818               -0.132229   \n",
       "Sanitation               -0.008112 -0.045414               -0.039097   \n",
       "Police                   -0.029816 -0.070342               -0.041894   \n",
       "Elections                 0.006925 -0.040733               -0.030469   \n",
       "\n",
       "                          Equity  Arts and Culture     Youth    Census  \\\n",
       "Parks                  -0.122681         -0.011128 -0.104359 -0.121114   \n",
       "Housing                -0.082219         -0.089072 -0.132829 -0.065147   \n",
       "Land Use               -0.035232         -0.024785 -0.135011  0.033686   \n",
       "Infrastructure         -0.034571         -0.039992 -0.131515 -0.011817   \n",
       "Transportation         -0.043429         -0.047694 -0.102970 -0.049072   \n",
       "Quality of Life         0.113254          0.097326 -0.091594  0.143453   \n",
       "Safety                 -0.037448         -0.076582 -0.081307 -0.052041   \n",
       "Waterfront             -0.002388          0.019485 -0.080636  0.019940   \n",
       "Technology              0.076774          0.009646 -0.084547  0.043082   \n",
       "Zoning                 -0.076423         -0.042567 -0.109682 -0.013070   \n",
       "Commercial Development  0.136072          0.033813 -0.123583  0.256388   \n",
       "Equity                  1.000000          0.122139 -0.074755  0.184491   \n",
       "Arts and Culture        0.122139          1.000000 -0.005611  0.033144   \n",
       "Youth                  -0.074755         -0.005611  1.000000 -0.064049   \n",
       "Census                  0.184491          0.033144 -0.064049  1.000000   \n",
       "Seniors                 0.031749          0.000349 -0.054997  0.014812   \n",
       "Employment              0.156833          0.026766 -0.053425  0.124307   \n",
       "Health                 -0.027707         -0.069910 -0.081839 -0.009437   \n",
       "Licensing               0.110649          0.008933 -0.086245  0.110357   \n",
       "Utilities               0.118987         -0.005015 -0.126215  0.095449   \n",
       "Human Services          0.038687         -0.031884 -0.004665  0.031044   \n",
       "Budget                 -0.049895         -0.028925 -0.093899 -0.056970   \n",
       "Libraries               0.021044          0.005731  0.014504  0.008660   \n",
       "Education              -0.000291         -0.008850  0.262065 -0.027907   \n",
       "Sanitation             -0.021288         -0.032504 -0.053625 -0.025836   \n",
       "Police                 -0.008357         -0.032875 -0.023555 -0.027788   \n",
       "Elections              -0.012395         -0.019690 -0.038403 -0.005129   \n",
       "\n",
       "                         Seniors  Employment    Health  Licensing  Utilities  \\\n",
       "Parks                  -0.083572   -0.100349 -0.135661  -0.105465  -0.079342   \n",
       "Housing                -0.032812   -0.025706 -0.067683  -0.136296  -0.103198   \n",
       "Land Use               -0.048553    0.005657 -0.134591  -0.060936  -0.019649   \n",
       "Infrastructure         -0.051898   -0.049180 -0.122920  -0.083361   0.227995   \n",
       "Transportation         -0.044585   -0.062935 -0.136054  -0.071422   0.004959   \n",
       "Quality of Life         0.007353    0.080715 -0.055732   0.121457   0.057225   \n",
       "Safety                 -0.068806   -0.055590 -0.068651  -0.054699   0.005129   \n",
       "Waterfront             -0.022845   -0.002811 -0.074117  -0.016521   0.036488   \n",
       "Technology              0.041909    0.123982 -0.081894  -0.020568   0.234155   \n",
       "Zoning                 -0.048756   -0.062829 -0.096961  -0.056876  -0.086302   \n",
       "Commercial Development  0.010279    0.206541 -0.110790   0.195892   0.094932   \n",
       "Equity                  0.031749    0.156833 -0.027707   0.110649   0.118987   \n",
       "Arts and Culture        0.000349    0.026766 -0.069910   0.008933  -0.005015   \n",
       "Youth                  -0.054997   -0.053425 -0.081839  -0.086245  -0.126215   \n",
       "Census                  0.014812    0.124307 -0.009437   0.110357   0.095449   \n",
       "Seniors                 1.000000   -0.015106 -0.019350  -0.012403   0.011561   \n",
       "Employment             -0.015106    1.000000 -0.076448   0.063704   0.064766   \n",
       "Health                 -0.019350   -0.076448  1.000000  -0.067420  -0.043700   \n",
       "Licensing              -0.012403    0.063704 -0.067420   1.000000   0.034733   \n",
       "Utilities               0.011561    0.064766 -0.043700   0.034733   1.000000   \n",
       "Human Services          0.033188   -0.006322  0.308819  -0.051502   0.033042   \n",
       "Budget                 -0.029588   -0.009930 -0.073928  -0.086822   0.038329   \n",
       "Libraries               0.052020    0.062926 -0.040776  -0.003636   0.029284   \n",
       "Education              -0.056309   -0.054378 -0.087109  -0.092489  -0.081878   \n",
       "Sanitation             -0.027938   -0.033690 -0.029839  -0.044684   0.071547   \n",
       "Police                 -0.035779   -0.016578 -0.048653  -0.016951   0.023803   \n",
       "Elections              -0.008295   -0.006083 -0.041771  -0.034099  -0.005855   \n",
       "\n",
       "                        Human Services    Budget  Libraries  Education  \\\n",
       "Parks                        -0.142336 -0.037583  -0.048007  -0.118504   \n",
       "Housing                       0.172933 -0.003432  -0.068534  -0.128291   \n",
       "Land Use                     -0.090353 -0.079136  -0.021703  -0.104692   \n",
       "Infrastructure               -0.107200 -0.062853  -0.042576  -0.099151   \n",
       "Transportation               -0.109080 -0.079033  -0.034701  -0.090747   \n",
       "Quality of Life              -0.012187 -0.122470  -0.016500  -0.121108   \n",
       "Safety                       -0.066052 -0.088035   0.003451  -0.067593   \n",
       "Waterfront                   -0.038610 -0.035318  -0.007987  -0.064666   \n",
       "Technology                   -0.018950 -0.059745   0.029816  -0.047158   \n",
       "Zoning                       -0.093813 -0.094543  -0.021083  -0.090818   \n",
       "Commercial Development       -0.056780 -0.053858   0.031965  -0.132229   \n",
       "Equity                        0.038687 -0.049895   0.021044  -0.000291   \n",
       "Arts and Culture             -0.031884 -0.028925   0.005731  -0.008850   \n",
       "Youth                        -0.004665 -0.093899   0.014504   0.262065   \n",
       "Census                        0.031044 -0.056970   0.008660  -0.027907   \n",
       "Seniors                       0.033188 -0.029588   0.052020  -0.056309   \n",
       "Employment                   -0.006322 -0.009930   0.062926  -0.054378   \n",
       "Health                        0.308819 -0.073928  -0.040776  -0.087109   \n",
       "Licensing                    -0.051502 -0.086822  -0.003636  -0.092489   \n",
       "Utilities                     0.033042  0.038329   0.029284  -0.081878   \n",
       "Human Services                1.000000 -0.040118  -0.008947  -0.044772   \n",
       "Budget                       -0.040118  1.000000  -0.012946   0.005379   \n",
       "Libraries                    -0.008947 -0.012946   1.000000   0.006859   \n",
       "Education                    -0.044772  0.005379   0.006859   1.000000   \n",
       "Sanitation                   -0.033475 -0.020672  -0.002774  -0.031666   \n",
       "Police                       -0.040544 -0.042301  -0.015084  -0.045828   \n",
       "Elections                    -0.030264 -0.003452   0.017297  -0.030433   \n",
       "\n",
       "                        Sanitation    Police  Elections  \n",
       "Parks                    -0.050557 -0.037750  -0.043461  \n",
       "Housing                  -0.063155 -0.092747  -0.058797  \n",
       "Land Use                 -0.055145 -0.070974  -0.042054  \n",
       "Infrastructure            0.043533 -0.060376  -0.050088  \n",
       "Transportation           -0.030549 -0.016438  -0.046945  \n",
       "Quality of Life          -0.032637 -0.041055  -0.040009  \n",
       "Safety                    0.027575  0.137334  -0.047377  \n",
       "Waterfront               -0.005069 -0.040411  -0.019145  \n",
       "Technology               -0.008112 -0.029816   0.006925  \n",
       "Zoning                   -0.045414 -0.070342  -0.040733  \n",
       "Commercial Development   -0.039097 -0.041894  -0.030469  \n",
       "Equity                   -0.021288 -0.008357  -0.012395  \n",
       "Arts and Culture         -0.032504 -0.032875  -0.019690  \n",
       "Youth                    -0.053625 -0.023555  -0.038403  \n",
       "Census                   -0.025836 -0.027788  -0.005129  \n",
       "Seniors                  -0.027938 -0.035779  -0.008295  \n",
       "Employment               -0.033690 -0.016578  -0.006083  \n",
       "Health                   -0.029839 -0.048653  -0.041771  \n",
       "Licensing                -0.044684 -0.016951  -0.034099  \n",
       "Utilities                 0.071547  0.023803  -0.005855  \n",
       "Human Services           -0.033475 -0.040544  -0.030264  \n",
       "Budget                   -0.020672 -0.042301  -0.003452  \n",
       "Libraries                -0.002774 -0.015084   0.017297  \n",
       "Education                -0.031666 -0.045828  -0.030433  \n",
       "Sanitation                1.000000  0.006325  -0.019366  \n",
       "Police                    0.006325  1.000000  -0.017592  \n",
       "Elections                -0.019366 -0.017592   1.000000  "
      ]
     },
     "execution_count": 201,
     "metadata": {},
     "output_type": "execute_result"
    }
   ],
   "source": [
    "df[topics_tax].corr()"
   ]
  },
  {
   "cell_type": "code",
   "execution_count": 244,
   "id": "popular-observer",
   "metadata": {
    "scrolled": false
   },
   "outputs": [
    {
     "data": {
      "image/png": "[encoded data removed]",
      "text/plain": [
       "<Figure size 1440x1440 with 1 Axes>"
      ]
     },
     "metadata": {
      "needs_background": "light"
     },
     "output_type": "display_data"
    }
   ],
   "source": [
    "# Step 1 - Make a scatter plot with square markers, set column names as labels\n",
    "\n",
    "def heatmap(x, y, size):\n",
    "    fig, ax = plt.subplots(figsize=(20, 20))\n",
    "    \n",
    "    # Mapping from column names to integer coordinates\n",
    "    x_labels = [v for v in sorted(x.unique())]\n",
    "    y_labels = [v for v in sorted(y.unique())]\n",
    "    x_to_num = {p[1]:p[0] for p in enumerate(x_labels)} \n",
    "    y_to_num = {p[1]:p[0] for p in enumerate(y_labels)} \n",
    "    \n",
    "    \n",
    "    \n",
    "    size_scale = 500\n",
    "    ax.scatter(\n",
    "        x=x.map(x_to_num), # Use mapping for x\n",
    "        y=y.map(y_to_num), # Use mapping for y\n",
    "        s=size * size_scale,\n",
    "        #c=color.apply(value_to_color),# Vector of square sizes, proportional to size parameter\n",
    "        marker='s' # Use square as scatterplot marker\n",
    "    )\n",
    "    \n",
    "    # Show column labels on the axes\n",
    "    ax.set_xticks([x_to_num[v] for v in x_labels])\n",
    "    ax.set_xticklabels(x_labels, rotation=45, horizontalalignment='right')\n",
    "    ax.set_yticks([y_to_num[v] for v in y_labels])\n",
    "    ax.set_yticklabels(y_labels)\n",
    "    \n",
    "    ax.grid(False, 'major')\n",
    "    ax.grid(True, 'minor')\n",
    "    a›x.set_xticks([t + 0.5 for t in ax.get_xticks()], minor=True)\n",
    "    ax.set_yticks([t + 0.5 for t in ax.get_yticks()], minor=True)\n",
    "    \n",
    "    \n",
    "    ax.set_xlim([-0.5, max([v for v in x_to_num.values()]) + 0.5]) \n",
    "    ax.set_ylim([-0.5, max([v for v in y_to_num.values()]) + 0.5])\n",
    "    plt.savefig('images/topic_corr1.png', transparent=False, facecolor=fig.get_facecolor(), edgecolor='none')\n",
    "    \n",
    "\n",
    "corr = df[topics_tax].corr()\n",
    "corr = pd.melt(corr.reset_index(), id_vars='index') # Unpivot the dataframe, so we can get pair of arrays for x and y\n",
    "corr.columns = ['x', 'y', 'value']\n",
    "heatmap(\n",
    "    x=corr['x'],\n",
    "    y=corr['y'],\n",
    "    size=corr['value'].abs()\n",
    ")"
   ]
  },
  {
   "cell_type": "code",
   "execution_count": 250,
   "id": "hungry-professor",
   "metadata": {},
   "outputs": [],
   "source": [
    "df.groupby('author', as_index=False)[topics_tax].count().to_csv('cb_topic_counts.csv',index=False)"
   ]
  },
  {
   "cell_type": "code",
   "execution_count": 251,
   "id": "sorted-nebraska",
   "metadata": {},
   "outputs": [],
   "source": [
    "topic_count = df.groupby('author', as_index=False)[topics_tax].count()"
   ]
  },
  {
   "cell_type": "code",
   "execution_count": 282,
   "id": "vertical-productivity",
   "metadata": {},
   "outputs": [
    {
     "data": {
      "text/plain": [
       "Parks                     219\n",
       "Housing                   217\n",
       "Land Use                  135\n",
       "Infrastructure            219\n",
       "Transportation            222\n",
       "Quality of Life           285\n",
       "Safety                    352\n",
       "Waterfront                 71\n",
       "Technology                 49\n",
       "Zoning                     99\n",
       "Commercial Development     77\n",
       "Equity                     96\n",
       "Arts and Culture           40\n",
       "Youth                     183\n",
       "Census                     37\n",
       "Seniors                    45\n",
       "Employment                 99\n",
       "Health                    168\n",
       "Licensing                  94\n",
       "Utilities                  31\n",
       "Human Services             34\n",
       "Budget                    142\n",
       "Libraries                  13\n",
       "Education                 137\n",
       "Sanitation                 32\n",
       "Police                     49\n",
       "Elections                  22\n",
       "dtype: int64"
      ]
     },
     "execution_count": 282,
     "metadata": {},
     "output_type": "execute_result"
    }
   ],
   "source": [
    "topic_count[topics_tax].sum()"
   ]
  },
  {
   "cell_type": "code",
   "execution_count": null,
   "id": "large-belfast",
   "metadata": {},
   "outputs": [],
   "source": []
  },
  {
   "cell_type": "code",
   "execution_count": 284,
   "id": "average-telescope",
   "metadata": {},
   "outputs": [
    {
     "data": {
      "text/plain": [
       "Text(0.5, 0, 'Number of meetings per CB')"
      ]
     },
     "execution_count": 284,
     "metadata": {},
     "output_type": "execute_result"
    },
    {
     "data": {
      "image/png": "[encoded data removed]",
      "text/plain": [
       "<Figure size 1080x720 with 1 Axes>"
      ]
     },
     "metadata": {
      "needs_background": "light"
     },
     "output_type": "display_data"
    }
   ],
   "source": [
    "fig, ax = plt.subplots(figsize=(15, 10))\n",
    "pd.DataFrame(topic_count[topics_tax].max()).sort_values(0).plot(kind='barh', ax=ax)\n",
    "plt.title('Most Frequent Meeting Type per CB')\n",
    "plt.xlabel('Number of meetings per CB')"
   ]
  },
  {
   "cell_type": "code",
   "execution_count": 285,
   "id": "threatened-replacement",
   "metadata": {},
   "outputs": [
    {
     "data": {
      "text/plain": [
       "Text(0.5, 0, 'Number of meetings')"
      ]
     },
     "execution_count": 285,
     "metadata": {},
     "output_type": "execute_result"
    },
    {
     "data": {
      "image/png": "[encoded data removed]",
      "text/plain": [
       "<Figure size 1080x720 with 1 Axes>"
      ]
     },
     "metadata": {
      "needs_background": "light"
     },
     "output_type": "display_data"
    }
   ],
   "source": [
    "fig, ax = plt.subplots(figsize=(15, 10))\n",
    "pd.DataFrame(topic_count[topics_tax].sum()).sort_values(0).plot(kind='barh', ax=ax)\n",
    "plt.title('Most Frequent Meeting Type per CB')\n",
    "plt.xlabel('Number of meetings')"
   ]
  },
  {
   "cell_type": "code",
   "execution_count": 286,
   "id": "amateur-renewal",
   "metadata": {},
   "outputs": [
    {
     "data": {
      "text/html": [
       "<div>\n",
       "<style scoped>\n",
       "    .dataframe tbody tr th:only-of-type {\n",
       "        vertical-align: middle;\n",
       "    }\n",
       "\n",
       "    .dataframe tbody tr th {\n",
       "        vertical-align: top;\n",
       "    }\n",
       "\n",
       "    .dataframe thead th {\n",
       "        text-align: right;\n",
       "    }\n",
       "</style>\n",
       "<table border=\"1\" class=\"dataframe\">\n",
       "  <thead>\n",
       "    <tr style=\"text-align: right;\">\n",
       "      <th></th>\n",
       "      <th>Parks</th>\n",
       "      <th>Housing</th>\n",
       "      <th>Land Use</th>\n",
       "      <th>Infrastructure</th>\n",
       "      <th>Transportation</th>\n",
       "      <th>Quality of Life</th>\n",
       "      <th>Safety</th>\n",
       "      <th>Waterfront</th>\n",
       "      <th>Technology</th>\n",
       "      <th>Zoning</th>\n",
       "      <th>Commercial Development</th>\n",
       "      <th>Equity</th>\n",
       "      <th>Arts and Culture</th>\n",
       "      <th>Youth</th>\n",
       "      <th>Census</th>\n",
       "      <th>Seniors</th>\n",
       "      <th>Employment</th>\n",
       "      <th>Health</th>\n",
       "      <th>Licensing</th>\n",
       "      <th>Utilities</th>\n",
       "      <th>Human Services</th>\n",
       "      <th>Budget</th>\n",
       "      <th>Libraries</th>\n",
       "      <th>Education</th>\n",
       "      <th>Sanitation</th>\n",
       "      <th>Police</th>\n",
       "      <th>Elections</th>\n",
       "    </tr>\n",
       "  </thead>\n",
       "  <tbody>\n",
       "    <tr>\n",
       "      <th>18</th>\n",
       "      <td>9</td>\n",
       "      <td>22</td>\n",
       "      <td>9</td>\n",
       "      <td>6</td>\n",
       "      <td>9</td>\n",
       "      <td>13</td>\n",
       "      <td>23</td>\n",
       "      <td>4</td>\n",
       "      <td>2</td>\n",
       "      <td>4</td>\n",
       "      <td>3</td>\n",
       "      <td>4</td>\n",
       "      <td>2</td>\n",
       "      <td>5</td>\n",
       "      <td>3</td>\n",
       "      <td>1</td>\n",
       "      <td>4</td>\n",
       "      <td>11</td>\n",
       "      <td>4</td>\n",
       "      <td>2</td>\n",
       "      <td>3</td>\n",
       "      <td>13</td>\n",
       "      <td>0</td>\n",
       "      <td>9</td>\n",
       "      <td>5</td>\n",
       "      <td>5</td>\n",
       "      <td>0</td>\n",
       "    </tr>\n",
       "  </tbody>\n",
       "</table>\n",
       "</div>"
      ],
      "text/plain": [
       "    Parks  Housing  Land Use  Infrastructure  Transportation  Quality of Life  \\\n",
       "18      9       22         9               6               9               13   \n",
       "\n",
       "    Safety  Waterfront  Technology  Zoning  Commercial Development  Equity  \\\n",
       "18      23           4           2       4                       3       4   \n",
       "\n",
       "    Arts and Culture  Youth  Census  Seniors  Employment  Health  Licensing  \\\n",
       "18                 2      5       3        1           4      11          4   \n",
       "\n",
       "    Utilities  Human Services  Budget  Libraries  Education  Sanitation  \\\n",
       "18          2               3      13          0          9           5   \n",
       "\n",
       "    Police  Elections  \n",
       "18       5          0  "
      ]
     },
     "execution_count": 286,
     "metadata": {},
     "output_type": "execute_result"
    }
   ],
   "source": [
    "topic_count[topic_count['author'] == 'Manhattan Community Board 4'][topics_tax]"
   ]
  },
  {
   "cell_type": "code",
   "execution_count": 287,
   "id": "inner-completion",
   "metadata": {},
   "outputs": [
    {
     "data": {
      "text/plain": [
       "7.233333333333333"
      ]
     },
     "execution_count": 287,
     "metadata": {},
     "output_type": "execute_result"
    }
   ],
   "source": [
    "topic_count['Housing'].mean()"
   ]
  },
  {
   "cell_type": "code",
   "execution_count": 289,
   "id": "cross-bandwidth",
   "metadata": {},
   "outputs": [
    {
     "data": {
      "text/plain": [
       "<AxesSubplot:>"
      ]
     },
     "execution_count": 289,
     "metadata": {},
     "output_type": "execute_result"
    },
    {
     "data": {
      "image/png": "[encoded data removed]",
      "text/plain": [
       "<Figure size 432x288 with 1 Axes>"
      ]
     },
     "metadata": {
      "needs_background": "light"
     },
     "output_type": "display_data"
    }
   ],
   "source": [
    "topic_count['Housing'].hist()"
   ]
  },
  {
   "cell_type": "code",
   "execution_count": 291,
   "id": "fresh-football",
   "metadata": {
    "scrolled": false
   },
   "outputs": [
    {
     "data": {
      "image/png": "[encoded data removed]",
      "text/plain": [
       "<Figure size 720x360 with 1 Axes>"
      ]
     },
     "metadata": {
      "needs_background": "light"
     },
     "output_type": "display_data"
    },
    {
     "data": {
      "image/png": "[encoded data removed]",
      "text/plain": [
       "<Figure size 720x360 with 1 Axes>"
      ]
     },
     "metadata": {
      "needs_background": "light"
     },
     "output_type": "display_data"
    },
    {
     "data": {
      "image/png": "[encoded data removed]",
      "text/plain": [
       "<Figure size 720x360 with 1 Axes>"
      ]
     },
     "metadata": {
      "needs_background": "light"
     },
     "output_type": "display_data"
    },
    {
     "data": {
      "image/png": "[encoded data removed]",
      "text/plain": [
       "<Figure size 720x360 with 1 Axes>"
      ]
     },
     "metadata": {
      "needs_background": "light"
     },
     "output_type": "display_data"
    },
    {
     "data": {
      "image/png": "[encoded data removed]",
      "text/plain": [
       "<Figure size 720x360 with 1 Axes>"
      ]
     },
     "metadata": {
      "needs_background": "light"
     },
     "output_type": "display_data"
    },
    {
     "data": {
      "image/png": "[encoded data removed]",
      "text/plain": [
       "<Figure size 720x360 with 1 Axes>"
      ]
     },
     "metadata": {
      "needs_background": "light"
     },
     "output_type": "display_data"
    },
    {
     "data": {
      "image/png": "[encoded data removed]",
      "text/plain": [
       "<Figure size 720x360 with 1 Axes>"
      ]
     },
     "metadata": {
      "needs_background": "light"
     },
     "output_type": "display_data"
    },
    {
     "data": {
      "image/png": "[encoded data removed]",
      "text/plain": [
       "<Figure size 720x360 with 1 Axes>"
      ]
     },
     "metadata": {
      "needs_background": "light"
     },
     "output_type": "display_data"
    },
    {
     "data": {
      "image/png": "[encoded data removed]",
      "text/plain": [
       "<Figure size 720x360 with 1 Axes>"
      ]
     },
     "metadata": {
      "needs_background": "light"
     },
     "output_type": "display_data"
    },
    {
     "data": {
      "image/png": "[encoded data removed]",
      "text/plain": [
       "<Figure size 720x360 with 1 Axes>"
      ]
     },
     "metadata": {
      "needs_background": "light"
     },
     "output_type": "display_data"
    },
    {
     "data": {
      "image/png": "[encoded data removed]",
      "text/plain": [
       "<Figure size 720x360 with 1 Axes>"
      ]
     },
     "metadata": {
      "needs_background": "light"
     },
     "output_type": "display_data"
    },
    {
     "data": {
      "image/png": "[encoded data removed]",
      "text/plain": [
       "<Figure size 720x360 with 1 Axes>"
      ]
     },
     "metadata": {
      "needs_background": "light"
     },
     "output_type": "display_data"
    },
    {
     "data": {
      "image/png": "[encoded data removed]",
      "text/plain": [
       "<Figure size 720x360 with 1 Axes>"
      ]
     },
     "metadata": {
      "needs_background": "light"
     },
     "output_type": "display_data"
    },
    {
     "data": {
      "image/png": "[encoded data removed]",
      "text/plain": [
       "<Figure size 720x360 with 1 Axes>"
      ]
     },
     "metadata": {
      "needs_background": "light"
     },
     "output_type": "display_data"
    },
    {
     "data": {
      "image/png": "[encoded data removed]",
      "text/plain": [
       "<Figure size 720x360 with 1 Axes>"
      ]
     },
     "metadata": {
      "needs_background": "light"
     },
     "output_type": "display_data"
    },
    {
     "data": {
      "image/png": "[encoded data removed]",
      "text/plain": [
       "<Figure size 720x360 with 1 Axes>"
      ]
     },
     "metadata": {
      "needs_background": "light"
     },
     "output_type": "display_data"
    },
    {
     "data": {
      "image/png": "[encoded data removed]",
      "text/plain": [
       "<Figure size 720x360 with 1 Axes>"
      ]
     },
     "metadata": {
      "needs_background": "light"
     },
     "output_type": "display_data"
    },
    {
     "data": {
      "image/png": "[encoded data removed]",
      "text/plain": [
       "<Figure size 720x360 with 1 Axes>"
      ]
     },
     "metadata": {
      "needs_background": "light"
     },
     "output_type": "display_data"
    },
    {
     "data": {
      "image/png": "[encoded data removed]",
      "text/plain": [
       "<Figure size 720x360 with 1 Axes>"
      ]
     },
     "metadata": {
      "needs_background": "light"
     },
     "output_type": "display_data"
    },
    {
     "data": {
      "image/png": "[encoded data removed]",
      "text/plain": [
       "<Figure size 720x360 with 1 Axes>"
      ]
     },
     "metadata": {
      "needs_background": "light"
     },
     "output_type": "display_data"
    },
    {
     "data": {
      "image/png": "[encoded data removed]",
      "text/plain": [
       "<Figure size 720x360 with 1 Axes>"
      ]
     },
     "metadata": {
      "needs_background": "light"
     },
     "output_type": "display_data"
    },
    {
     "data": {
      "image/png": "[encoded data removed]",
      "text/plain": [
       "<Figure size 720x360 with 1 Axes>"
      ]
     },
     "metadata": {
      "needs_background": "light"
     },
     "output_type": "display_data"
    },
    {
     "data": {
      "image/png": "[encoded data removed]",
      "text/plain": [
       "<Figure size 720x360 with 1 Axes>"
      ]
     },
     "metadata": {
      "needs_background": "light"
     },
     "output_type": "display_data"
    },
    {
     "data": {
      "image/png": "[encoded data removed]",
      "text/plain": [
       "<Figure size 720x360 with 1 Axes>"
      ]
     },
     "metadata": {
      "needs_background": "light"
     },
     "output_type": "display_data"
    },
    {
     "data": {
      "image/png": "[encoded data removed]",
      "text/plain": [
       "<Figure size 720x360 with 1 Axes>"
      ]
     },
     "metadata": {
      "needs_background": "light"
     },
     "output_type": "display_data"
    },
    {
     "data": {
      "image/png": "[encoded data removed]",
      "text/plain": [
       "<Figure size 720x360 with 1 Axes>"
      ]
     },
     "metadata": {
      "needs_background": "light"
     },
     "output_type": "display_data"
    },
    {
     "data": {
      "image/png": "[encoded data removed]",
      "text/plain": [
       "<Figure size 720x360 with 1 Axes>"
      ]
     },
     "metadata": {
      "needs_background": "light"
     },
     "output_type": "display_data"
    }
   ],
   "source": [
    "# Distributions\n",
    "for i in topics_tax:\n",
    "    plt.figure(figsize=(10, 5))\n",
    "    topic_count[i].hist()\n",
    "    plt.title(i)\n",
    "    plt.show()"
   ]
  },
  {
   "cell_type": "code",
   "execution_count": null,
   "id": "competent-storm",
   "metadata": {},
   "outputs": [],
   "source": []
  }
 ],
 "metadata": {
  "kernelspec": {
   "display_name": "Python 3",
   "language": "python",
   "name": "python3"
  },
  "language_info": {
   "codemirror_mode": {
    "name": "ipython",
    "version": 3
   },
   "file_extension": ".py",
   "mimetype": "text/x-python",
   "name": "python",
   "nbconvert_exporter": "python",
   "pygments_lexer": "ipython3",
   "version": "3.8.8"
  }
 },
 "nbformat": 4,
 "nbformat_minor": 5
}
